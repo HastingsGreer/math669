{
 "cells": [
  {
   "cell_type": "code",
   "execution_count": 1,
   "metadata": {},
   "outputs": [],
   "source": [
    "from sage.misc.html import latex\n",
    "%display latex"
   ]
  },
  {
   "cell_type": "code",
   "execution_count": 2,
   "metadata": {},
   "outputs": [
    {
     "data": {
      "text/html": [
       "<html><script type=\"math/tex; mode=display\">\\newcommand{\\Bold}[1]{\\mathbf{#1}}\\left(z, \\epsilon, \\tau\\right)</script></html>"
      ],
      "text/plain": [
       "(z, epsilon, tau)"
      ]
     },
     "execution_count": 2,
     "metadata": {},
     "output_type": "execute_result"
    }
   ],
   "source": [
    "var(\"z epsilon tau\")"
   ]
  },
  {
   "cell_type": "code",
   "execution_count": 3,
   "metadata": {},
   "outputs": [
    {
     "data": {
      "text/html": [
       "<html><script type=\"math/tex; mode=display\">\\newcommand{\\Bold}[1]{\\mathbf{#1}}\\epsilon</script></html>"
      ],
      "text/plain": [
       "epsilon"
      ]
     },
     "execution_count": 3,
     "metadata": {},
     "output_type": "execute_result"
    }
   ],
   "source": [
    "ep = epsilon\n",
    "t = tau\n",
    "ep"
   ]
  },
  {
   "cell_type": "code",
   "execution_count": 4,
   "metadata": {},
   "outputs": [
    {
     "data": {
      "text/html": [
       "<html><script type=\"math/tex; mode=display\">\\newcommand{\\Bold}[1]{\\mathbf{#1}}-\\frac{1}{{\\left(\\epsilon z + 1\\right)}^{2}}</script></html>"
      ],
      "text/plain": [
       "-1/(epsilon*z + 1)^2"
      ]
     },
     "execution_count": 4,
     "metadata": {},
     "output_type": "execute_result"
    }
   ],
   "source": [
    "rhs = -1/(1 + ep * z)**2\n",
    "rhs"
   ]
  },
  {
   "cell_type": "code",
   "execution_count": 5,
   "metadata": {},
   "outputs": [
    {
     "data": {
      "text/html": [
       "<html><script type=\"math/tex; mode=display\">\\newcommand{\\Bold}[1]{\\mathbf{#1}}-5 \\, \\epsilon^{4} z^{4} + 4 \\, \\epsilon^{3} z^{3} - 3 \\, \\epsilon^{2} z^{2} + 2 \\, \\epsilon z - 1</script></html>"
      ],
      "text/plain": [
       "-5 \\, \\epsilon^{4} z^{4} + 4 \\, \\epsilon^{3} z^{3} - 3 \\, \\epsilon^{2} z^{2} + 2 \\, \\epsilon z - 1"
      ]
     },
     "execution_count": 5,
     "metadata": {},
     "output_type": "execute_result"
    }
   ],
   "source": [
    "rhs_taylor = rhs.taylor(ep, 0, 4)\n",
    "latex(rhs_taylor)"
   ]
  },
  {
   "cell_type": "code",
   "execution_count": 6,
   "metadata": {},
   "outputs": [
    {
     "data": {
      "text/html": [
       "<html><script type=\"math/tex; mode=display\">\\newcommand{\\Bold}[1]{\\mathbf{#1}}\\epsilon^{4} z_{4}\\left(\\tau\\right) + \\epsilon^{3} z_{3}\\left(\\tau\\right) + \\epsilon^{2} z_{2}\\left(\\tau\\right) + \\epsilon z_{1}\\left(\\tau\\right) + z_{0}\\left(\\tau\\right)</script></html>"
      ],
      "text/plain": [
       "epsilon^4*z4(tau) + epsilon^3*z3(tau) + epsilon^2*z2(tau) + epsilon*z1(tau) + z0(tau)"
      ]
     },
     "execution_count": 6,
     "metadata": {},
     "output_type": "execute_result"
    }
   ],
   "source": [
    "z_expanded = 0\n",
    "for i in range(5):\n",
    "    z_expanded += function(f\"z{i}\")(t) * ep**i\n",
    "z_expanded"
   ]
  },
  {
   "cell_type": "code",
   "execution_count": 7,
   "metadata": {},
   "outputs": [],
   "source": [
    "rhs_expanded = rhs_taylor.substitute(z=z_expanded).expand().collect(ep)"
   ]
  },
  {
   "cell_type": "code",
   "execution_count": 8,
   "metadata": {},
   "outputs": [
    {
     "data": {
      "text/html": [
       "<html><script type=\"math/tex; mode=display\">\\newcommand{\\Bold}[1]{\\mathbf{#1}}\\epsilon^{4} \\frac{\\partial^{2}}{(\\partial \\tau)^{2}}z_{4}\\left(\\tau\\right) + \\epsilon^{3} \\frac{\\partial^{2}}{(\\partial \\tau)^{2}}z_{3}\\left(\\tau\\right) + \\epsilon^{2} \\frac{\\partial^{2}}{(\\partial \\tau)^{2}}z_{2}\\left(\\tau\\right) + \\epsilon \\frac{\\partial^{2}}{(\\partial \\tau)^{2}}z_{1}\\left(\\tau\\right) + \\frac{\\partial^{2}}{(\\partial \\tau)^{2}}z_{0}\\left(\\tau\\right)</script></html>"
      ],
      "text/plain": [
       "epsilon^4*diff(z4(tau), tau, tau) + epsilon^3*diff(z3(tau), tau, tau) + epsilon^2*diff(z2(tau), tau, tau) + epsilon*diff(z1(tau), tau, tau) + diff(z0(tau), tau, tau)"
      ]
     },
     "execution_count": 8,
     "metadata": {},
     "output_type": "execute_result"
    }
   ],
   "source": [
    "lhs = 0\n",
    "for i in range(5):\n",
    "    lhs += derivative(function(f\"z{i}\")(t), t, 2) * ep**i\n",
    "lhs"
   ]
  },
  {
   "cell_type": "code",
   "execution_count": 9,
   "metadata": {},
   "outputs": [
    {
     "data": {
      "text/html": [
       "<html><script type=\"math/tex; mode=display\">\\newcommand{\\Bold}[1]{\\mathbf{#1}}\\left[-\\frac{\\partial^{2}}{(\\partial \\tau)^{2}}z_{0}\\left(\\tau\\right) - 1 = 0, 2 \\, z_{0}\\left(\\tau\\right) - \\frac{\\partial^{2}}{(\\partial \\tau)^{2}}z_{1}\\left(\\tau\\right) = 0, -3 \\, z_{0}\\left(\\tau\\right)^{2} + 2 \\, z_{1}\\left(\\tau\\right) - \\frac{\\partial^{2}}{(\\partial \\tau)^{2}}z_{2}\\left(\\tau\\right) = 0, 4 \\, z_{0}\\left(\\tau\\right)^{3} - 6 \\, z_{0}\\left(\\tau\\right) z_{1}\\left(\\tau\\right) + 2 \\, z_{2}\\left(\\tau\\right) - \\frac{\\partial^{2}}{(\\partial \\tau)^{2}}z_{3}\\left(\\tau\\right) = 0, -5 \\, z_{0}\\left(\\tau\\right)^{4} + 12 \\, z_{0}\\left(\\tau\\right)^{2} z_{1}\\left(\\tau\\right) - 3 \\, z_{1}\\left(\\tau\\right)^{2} - 6 \\, z_{0}\\left(\\tau\\right) z_{2}\\left(\\tau\\right) + 2 \\, z_{3}\\left(\\tau\\right) - \\frac{\\partial^{2}}{(\\partial \\tau)^{2}}z_{4}\\left(\\tau\\right) = 0, -20 \\, z_{0}\\left(\\tau\\right)^{3} z_{1}\\left(\\tau\\right) + 12 \\, z_{0}\\left(\\tau\\right) z_{1}\\left(\\tau\\right)^{2} + 12 \\, z_{0}\\left(\\tau\\right)^{2} z_{2}\\left(\\tau\\right) - 6 \\, z_{1}\\left(\\tau\\right) z_{2}\\left(\\tau\\right) - 6 \\, z_{0}\\left(\\tau\\right) z_{3}\\left(\\tau\\right) + 2 \\, z_{4}\\left(\\tau\\right) = 0\\right]</script></html>"
      ],
      "text/plain": [
       "[-diff(z0(tau), tau, tau) - 1 == 0,\n",
       " 2*z0(tau) - diff(z1(tau), tau, tau) == 0,\n",
       " -3*z0(tau)^2 + 2*z1(tau) - diff(z2(tau), tau, tau) == 0,\n",
       " 4*z0(tau)^3 - 6*z0(tau)*z1(tau) + 2*z2(tau) - diff(z3(tau), tau, tau) == 0,\n",
       " -5*z0(tau)^4 + 12*z0(tau)^2*z1(tau) - 3*z1(tau)^2 - 6*z0(tau)*z2(tau) + 2*z3(tau) - diff(z4(tau), tau, tau) == 0,\n",
       " -20*z0(tau)^3*z1(tau) + 12*z0(tau)*z1(tau)^2 + 12*z0(tau)^2*z2(tau) - 6*z1(tau)*z2(tau) - 6*z0(tau)*z3(tau) + 2*z4(tau) == 0]"
      ]
     },
     "execution_count": 9,
     "metadata": {},
     "output_type": "execute_result"
    }
   ],
   "source": [
    "equations = (rhs_expanded - lhs).collect(ep).coefficients(ep, sparse=False)[:6]\n",
    "[e == 0 for e in equations]"
   ]
  },
  {
   "cell_type": "code",
   "execution_count": 71,
   "metadata": {},
   "outputs": [
    {
     "data": {
      "text/html": [
       "<html><script type=\"math/tex; mode=display\">\\newcommand{\\Bold}[1]{\\mathbf{#1}}\\frac{\\partial}{\\partial \\tau}z_{0}\\left(\\tau\\right) = -c_{20} - \\tau</script></html>"
      ],
      "text/plain": [
       "diff(z0(tau), tau) == -c20 - tau"
      ]
     },
     "execution_count": 71,
     "metadata": {},
     "output_type": "execute_result"
    }
   ],
   "source": [
    "i = 0\n",
    "\n",
    "eqn = integrate(equations[i] == 0, t)\n",
    "eqn = eqn - eqn.left().operands()[0]\n",
    "eqn *= -1\n",
    "eqn"
   ]
  },
  {
   "cell_type": "code",
   "execution_count": 72,
   "metadata": {},
   "outputs": [
    {
     "data": {
      "text/html": [
       "<html><script type=\"math/tex; mode=display\">\\newcommand{\\Bold}[1]{\\mathbf{#1}}\\left[c_{20} = \\left(-1\\right)\\right]</script></html>"
      ],
      "text/plain": [
       "[c20 == -1]"
      ]
     },
     "execution_count": 72,
     "metadata": {},
     "output_type": "execute_result"
    }
   ],
   "source": [
    "term_at_t0 = eqn.right().substitute(t==0)\n",
    "constant = solve(term_at_t0 == 1, term_at_t0.variables()[0])\n",
    "constant"
   ]
  },
  {
   "cell_type": "code",
   "execution_count": 73,
   "metadata": {},
   "outputs": [],
   "source": [
    "eqn = eqn.substitute(constant)"
   ]
  },
  {
   "cell_type": "code",
   "execution_count": 74,
   "metadata": {},
   "outputs": [
    {
     "data": {
      "text/html": [
       "<html><script type=\"math/tex; mode=display\">\\newcommand{\\Bold}[1]{\\mathbf{#1}}z_{0}\\left(\\tau\\right) = -\\frac{1}{2} \\, \\tau^{2} + c_{21} + \\tau</script></html>"
      ],
      "text/plain": [
       "z0(tau) == -1/2*tau^2 + c21 + tau"
      ]
     },
     "execution_count": 74,
     "metadata": {},
     "output_type": "execute_result"
    }
   ],
   "source": [
    "eqn = integrate(eqn, t)\n",
    "eqn"
   ]
  },
  {
   "cell_type": "code",
   "execution_count": 75,
   "metadata": {},
   "outputs": [
    {
     "data": {
      "text/html": [
       "<html><script type=\"math/tex; mode=display\">\\newcommand{\\Bold}[1]{\\mathbf{#1}}\\left[c_{21} = 0\\right]</script></html>"
      ],
      "text/plain": [
       "[c21 == 0]"
      ]
     },
     "execution_count": 75,
     "metadata": {},
     "output_type": "execute_result"
    }
   ],
   "source": [
    "term_at_t0 = eqn.right().substitute(t==0)\n",
    "constant = solve(term_at_t0 == 0, term_at_t0.variables()[0])\n",
    "constant"
   ]
  },
  {
   "cell_type": "code",
   "execution_count": 76,
   "metadata": {},
   "outputs": [
    {
     "data": {
      "text/html": [
       "<html><script type=\"math/tex; mode=display\">\\newcommand{\\Bold}[1]{\\mathbf{#1}}z_{0}\\left(\\tau\\right) = -\\frac{1}{2} \\, \\tau^{2} + \\tau</script></html>"
      ],
      "text/plain": [
       "z0(tau) == -1/2*tau^2 + tau"
      ]
     },
     "execution_count": 76,
     "metadata": {},
     "output_type": "execute_result"
    }
   ],
   "source": [
    "eqn = eqn.substitute(constant)\n",
    "eqn"
   ]
  },
  {
   "cell_type": "code",
   "execution_count": 118,
   "metadata": {},
   "outputs": [],
   "source": [
    "eqns = [None for _ in range(5)]\n",
    "eqns[0] = eqn"
   ]
  },
  {
   "cell_type": "code",
   "execution_count": 119,
   "metadata": {},
   "outputs": [],
   "source": [
    "def solve_fn(eqn, function):\n",
    "    eqn = eqn.substitute({function: var(\"tempy\")})\n",
    "    eqn = eqn.solve(var(\"tempy\"))[0]\n",
    "    eqn = eqn.substitute({var(\"tempy\"):function})\n",
    "    return eqn"
   ]
  },
  {
   "cell_type": "code",
   "execution_count": 120,
   "metadata": {},
   "outputs": [
    {
     "data": {
      "text/html": [
       "<html><script type=\"math/tex; mode=display\">\\newcommand{\\Bold}[1]{\\mathbf{#1}}\\int 2 \\, z_{0}\\left(\\tau\\right) - \\frac{\\partial^{2}}{(\\partial \\tau)^{2}}z_{1}\\left(\\tau\\right)\\,{d \\tau} = c_{90}</script></html>"
      ],
      "text/plain": [
       "integrate(2*z0(tau) - diff(z1(tau), tau, tau), tau) == c90"
      ]
     },
     "metadata": {},
     "output_type": "display_data"
    },
    {
     "data": {
      "text/html": [
       "<html><script type=\"math/tex; mode=display\">\\newcommand{\\Bold}[1]{\\mathbf{#1}}-\\frac{1}{3} \\, \\tau^{3} + \\tau^{2} - \\frac{\\partial}{\\partial \\tau}z_{1}\\left(\\tau\\right) = c_{90}</script></html>"
      ],
      "text/plain": [
       "-1/3*tau^3 + tau^2 - diff(z1(tau), tau) == c90"
      ]
     },
     "metadata": {},
     "output_type": "display_data"
    },
    {
     "data": {
      "text/html": [
       "<html><script type=\"math/tex; mode=display\">\\newcommand{\\Bold}[1]{\\mathbf{#1}}-c_{90} = 0</script></html>"
      ],
      "text/plain": [
       "-c90 == 0"
      ]
     },
     "metadata": {},
     "output_type": "display_data"
    },
    {
     "data": {
      "text/html": [
       "<html><script type=\"math/tex; mode=display\">\\newcommand{\\Bold}[1]{\\mathbf{#1}}c_{90} = 0</script></html>"
      ],
      "text/plain": [
       "c90 == 0"
      ]
     },
     "metadata": {},
     "output_type": "display_data"
    },
    {
     "data": {
      "text/html": [
       "<html><script type=\"math/tex; mode=display\">\\newcommand{\\Bold}[1]{\\mathbf{#1}}-\\frac{1}{12} \\, \\tau^{4} + \\frac{1}{3} \\, \\tau^{3} - z_{1}\\left(\\tau\\right) = c_{91}</script></html>"
      ],
      "text/plain": [
       "-1/12*tau^4 + 1/3*tau^3 - z1(tau) == c91"
      ]
     },
     "metadata": {},
     "output_type": "display_data"
    },
    {
     "data": {
      "text/html": [
       "<html><script type=\"math/tex; mode=display\">\\newcommand{\\Bold}[1]{\\mathbf{#1}}z_{1}\\left(\\tau\\right) = -\\frac{1}{12} \\, \\tau^{4} + \\frac{1}{3} \\, \\tau^{3} - c_{91}</script></html>"
      ],
      "text/plain": [
       "z1(tau) == -1/12*tau^4 + 1/3*tau^3 - c91"
      ]
     },
     "metadata": {},
     "output_type": "display_data"
    },
    {
     "data": {
      "text/html": [
       "<html><script type=\"math/tex; mode=display\">\\newcommand{\\Bold}[1]{\\mathbf{#1}}c_{91} = 0</script></html>"
      ],
      "text/plain": [
       "c91 == 0"
      ]
     },
     "metadata": {},
     "output_type": "display_data"
    },
    {
     "data": {
      "text/html": [
       "<html><script type=\"math/tex; mode=display\">\\newcommand{\\Bold}[1]{\\mathbf{#1}}z_{1}\\left(\\tau\\right) = -\\frac{1}{12} \\, \\tau^{4} + \\frac{1}{3} \\, \\tau^{3}</script></html>"
      ],
      "text/plain": [
       "z1(tau) == -1/12*tau^4 + 1/3*tau^3"
      ]
     },
     "metadata": {},
     "output_type": "display_data"
    },
    {
     "data": {
      "text/html": [
       "<html><script type=\"math/tex; mode=display\">\\newcommand{\\Bold}[1]{\\mathbf{#1}}\\int -3 \\, z_{0}\\left(\\tau\\right)^{2} + 2 \\, z_{1}\\left(\\tau\\right) - \\frac{\\partial^{2}}{(\\partial \\tau)^{2}}z_{2}\\left(\\tau\\right)\\,{d \\tau} = c_{92}</script></html>"
      ],
      "text/plain": [
       "integrate(-3*z0(tau)^2 + 2*z1(tau) - diff(z2(tau), tau, tau), tau) == c92"
      ]
     },
     "metadata": {},
     "output_type": "display_data"
    },
    {
     "data": {
      "text/html": [
       "<html><script type=\"math/tex; mode=display\">\\newcommand{\\Bold}[1]{\\mathbf{#1}}-\\frac{11}{60} \\, \\tau^{5} + \\frac{11}{12} \\, \\tau^{4} - \\tau^{3} - \\frac{\\partial}{\\partial \\tau}z_{2}\\left(\\tau\\right) = c_{92}</script></html>"
      ],
      "text/plain": [
       "-11/60*tau^5 + 11/12*tau^4 - tau^3 - diff(z2(tau), tau) == c92"
      ]
     },
     "metadata": {},
     "output_type": "display_data"
    },
    {
     "data": {
      "text/html": [
       "<html><script type=\"math/tex; mode=display\">\\newcommand{\\Bold}[1]{\\mathbf{#1}}-c_{92} = 0</script></html>"
      ],
      "text/plain": [
       "-c92 == 0"
      ]
     },
     "metadata": {},
     "output_type": "display_data"
    },
    {
     "data": {
      "text/html": [
       "<html><script type=\"math/tex; mode=display\">\\newcommand{\\Bold}[1]{\\mathbf{#1}}c_{92} = 0</script></html>"
      ],
      "text/plain": [
       "c92 == 0"
      ]
     },
     "metadata": {},
     "output_type": "display_data"
    },
    {
     "data": {
      "text/html": [
       "<html><script type=\"math/tex; mode=display\">\\newcommand{\\Bold}[1]{\\mathbf{#1}}-\\frac{11}{360} \\, \\tau^{6} + \\frac{11}{60} \\, \\tau^{5} - \\frac{1}{4} \\, \\tau^{4} - z_{2}\\left(\\tau\\right) = c_{93}</script></html>"
      ],
      "text/plain": [
       "-11/360*tau^6 + 11/60*tau^5 - 1/4*tau^4 - z2(tau) == c93"
      ]
     },
     "metadata": {},
     "output_type": "display_data"
    },
    {
     "data": {
      "text/html": [
       "<html><script type=\"math/tex; mode=display\">\\newcommand{\\Bold}[1]{\\mathbf{#1}}z_{2}\\left(\\tau\\right) = -\\frac{11}{360} \\, \\tau^{6} + \\frac{11}{60} \\, \\tau^{5} - \\frac{1}{4} \\, \\tau^{4} - c_{93}</script></html>"
      ],
      "text/plain": [
       "z2(tau) == -11/360*tau^6 + 11/60*tau^5 - 1/4*tau^4 - c93"
      ]
     },
     "metadata": {},
     "output_type": "display_data"
    },
    {
     "data": {
      "text/html": [
       "<html><script type=\"math/tex; mode=display\">\\newcommand{\\Bold}[1]{\\mathbf{#1}}c_{93} = 0</script></html>"
      ],
      "text/plain": [
       "c93 == 0"
      ]
     },
     "metadata": {},
     "output_type": "display_data"
    },
    {
     "data": {
      "text/html": [
       "<html><script type=\"math/tex; mode=display\">\\newcommand{\\Bold}[1]{\\mathbf{#1}}z_{2}\\left(\\tau\\right) = -\\frac{11}{360} \\, \\tau^{6} + \\frac{11}{60} \\, \\tau^{5} - \\frac{1}{4} \\, \\tau^{4}</script></html>"
      ],
      "text/plain": [
       "z2(tau) == -11/360*tau^6 + 11/60*tau^5 - 1/4*tau^4"
      ]
     },
     "metadata": {},
     "output_type": "display_data"
    },
    {
     "data": {
      "text/html": [
       "<html><script type=\"math/tex; mode=display\">\\newcommand{\\Bold}[1]{\\mathbf{#1}}\\int 4 \\, z_{0}\\left(\\tau\\right)^{3} - 6 \\, z_{0}\\left(\\tau\\right) z_{1}\\left(\\tau\\right) + 2 \\, z_{2}\\left(\\tau\\right) - \\frac{\\partial^{2}}{(\\partial \\tau)^{2}}z_{3}\\left(\\tau\\right)\\,{d \\tau} = c_{94}</script></html>"
      ],
      "text/plain": [
       "integrate(4*z0(tau)^3 - 6*z0(tau)*z1(tau) + 2*z2(tau) - diff(z3(tau), tau, tau), tau) == c94"
      ]
     },
     "metadata": {},
     "output_type": "display_data"
    },
    {
     "data": {
      "text/html": [
       "<html><script type=\"math/tex; mode=display\">\\newcommand{\\Bold}[1]{\\mathbf{#1}}-\\frac{73}{630} \\, \\tau^{7} + \\frac{73}{90} \\, \\tau^{6} - \\frac{17}{10} \\, \\tau^{5} + \\tau^{4} - \\frac{\\partial}{\\partial \\tau}z_{3}\\left(\\tau\\right) = c_{94}</script></html>"
      ],
      "text/plain": [
       "-73/630*tau^7 + 73/90*tau^6 - 17/10*tau^5 + tau^4 - diff(z3(tau), tau) == c94"
      ]
     },
     "metadata": {},
     "output_type": "display_data"
    },
    {
     "data": {
      "text/html": [
       "<html><script type=\"math/tex; mode=display\">\\newcommand{\\Bold}[1]{\\mathbf{#1}}-c_{94} = 0</script></html>"
      ],
      "text/plain": [
       "-c94 == 0"
      ]
     },
     "metadata": {},
     "output_type": "display_data"
    },
    {
     "data": {
      "text/html": [
       "<html><script type=\"math/tex; mode=display\">\\newcommand{\\Bold}[1]{\\mathbf{#1}}c_{94} = 0</script></html>"
      ],
      "text/plain": [
       "c94 == 0"
      ]
     },
     "metadata": {},
     "output_type": "display_data"
    },
    {
     "data": {
      "text/html": [
       "<html><script type=\"math/tex; mode=display\">\\newcommand{\\Bold}[1]{\\mathbf{#1}}-\\frac{73}{5040} \\, \\tau^{8} + \\frac{73}{630} \\, \\tau^{7} - \\frac{17}{60} \\, \\tau^{6} + \\frac{1}{5} \\, \\tau^{5} - z_{3}\\left(\\tau\\right) = c_{95}</script></html>"
      ],
      "text/plain": [
       "-73/5040*tau^8 + 73/630*tau^7 - 17/60*tau^6 + 1/5*tau^5 - z3(tau) == c95"
      ]
     },
     "metadata": {},
     "output_type": "display_data"
    },
    {
     "data": {
      "text/html": [
       "<html><script type=\"math/tex; mode=display\">\\newcommand{\\Bold}[1]{\\mathbf{#1}}z_{3}\\left(\\tau\\right) = -\\frac{73}{5040} \\, \\tau^{8} + \\frac{73}{630} \\, \\tau^{7} - \\frac{17}{60} \\, \\tau^{6} + \\frac{1}{5} \\, \\tau^{5} - c_{95}</script></html>"
      ],
      "text/plain": [
       "z3(tau) == -73/5040*tau^8 + 73/630*tau^7 - 17/60*tau^6 + 1/5*tau^5 - c95"
      ]
     },
     "metadata": {},
     "output_type": "display_data"
    },
    {
     "data": {
      "text/html": [
       "<html><script type=\"math/tex; mode=display\">\\newcommand{\\Bold}[1]{\\mathbf{#1}}c_{95} = 0</script></html>"
      ],
      "text/plain": [
       "c95 == 0"
      ]
     },
     "metadata": {},
     "output_type": "display_data"
    },
    {
     "data": {
      "text/html": [
       "<html><script type=\"math/tex; mode=display\">\\newcommand{\\Bold}[1]{\\mathbf{#1}}z_{3}\\left(\\tau\\right) = -\\frac{73}{5040} \\, \\tau^{8} + \\frac{73}{630} \\, \\tau^{7} - \\frac{17}{60} \\, \\tau^{6} + \\frac{1}{5} \\, \\tau^{5}</script></html>"
      ],
      "text/plain": [
       "z3(tau) == -73/5040*tau^8 + 73/630*tau^7 - 17/60*tau^6 + 1/5*tau^5"
      ]
     },
     "metadata": {},
     "output_type": "display_data"
    },
    {
     "data": {
      "text/html": [
       "<html><script type=\"math/tex; mode=display\">\\newcommand{\\Bold}[1]{\\mathbf{#1}}\\int -5 \\, z_{0}\\left(\\tau\\right)^{4} + 12 \\, z_{0}\\left(\\tau\\right)^{2} z_{1}\\left(\\tau\\right) - 3 \\, z_{1}\\left(\\tau\\right)^{2} - 6 \\, z_{0}\\left(\\tau\\right) z_{2}\\left(\\tau\\right) + 2 \\, z_{3}\\left(\\tau\\right) - \\frac{\\partial^{2}}{(\\partial \\tau)^{2}}z_{4}\\left(\\tau\\right)\\,{d \\tau} = c_{96}</script></html>"
      ],
      "text/plain": [
       "integrate(-5*z0(tau)^4 + 12*z0(tau)^2*z1(tau) - 3*z1(tau)^2 - 6*z0(tau)*z2(tau) + 2*z3(tau) - diff(z4(tau), tau, tau), tau) == c96"
      ]
     },
     "metadata": {},
     "output_type": "display_data"
    },
    {
     "data": {
      "text/html": [
       "<html><script type=\"math/tex; mode=display\">\\newcommand{\\Bold}[1]{\\mathbf{#1}}-\\frac{887}{11340} \\, \\tau^{9} + \\frac{887}{1260} \\, \\tau^{8} - \\frac{61}{28} \\, \\tau^{7} + \\frac{53}{20} \\, \\tau^{6} - \\tau^{5} - \\frac{\\partial}{\\partial \\tau}z_{4}\\left(\\tau\\right) = c_{96}</script></html>"
      ],
      "text/plain": [
       "-887/11340*tau^9 + 887/1260*tau^8 - 61/28*tau^7 + 53/20*tau^6 - tau^5 - diff(z4(tau), tau) == c96"
      ]
     },
     "metadata": {},
     "output_type": "display_data"
    },
    {
     "data": {
      "text/html": [
       "<html><script type=\"math/tex; mode=display\">\\newcommand{\\Bold}[1]{\\mathbf{#1}}-c_{96} = 0</script></html>"
      ],
      "text/plain": [
       "-c96 == 0"
      ]
     },
     "metadata": {},
     "output_type": "display_data"
    },
    {
     "data": {
      "text/html": [
       "<html><script type=\"math/tex; mode=display\">\\newcommand{\\Bold}[1]{\\mathbf{#1}}c_{96} = 0</script></html>"
      ],
      "text/plain": [
       "c96 == 0"
      ]
     },
     "metadata": {},
     "output_type": "display_data"
    },
    {
     "data": {
      "text/html": [
       "<html><script type=\"math/tex; mode=display\">\\newcommand{\\Bold}[1]{\\mathbf{#1}}-\\frac{887}{113400} \\, \\tau^{10} + \\frac{887}{11340} \\, \\tau^{9} - \\frac{61}{224} \\, \\tau^{8} + \\frac{53}{140} \\, \\tau^{7} - \\frac{1}{6} \\, \\tau^{6} - z_{4}\\left(\\tau\\right) = c_{97}</script></html>"
      ],
      "text/plain": [
       "-887/113400*tau^10 + 887/11340*tau^9 - 61/224*tau^8 + 53/140*tau^7 - 1/6*tau^6 - z4(tau) == c97"
      ]
     },
     "metadata": {},
     "output_type": "display_data"
    },
    {
     "data": {
      "text/html": [
       "<html><script type=\"math/tex; mode=display\">\\newcommand{\\Bold}[1]{\\mathbf{#1}}z_{4}\\left(\\tau\\right) = -\\frac{887}{113400} \\, \\tau^{10} + \\frac{887}{11340} \\, \\tau^{9} - \\frac{61}{224} \\, \\tau^{8} + \\frac{53}{140} \\, \\tau^{7} - \\frac{1}{6} \\, \\tau^{6} - c_{97}</script></html>"
      ],
      "text/plain": [
       "z4(tau) == -887/113400*tau^10 + 887/11340*tau^9 - 61/224*tau^8 + 53/140*tau^7 - 1/6*tau^6 - c97"
      ]
     },
     "metadata": {},
     "output_type": "display_data"
    },
    {
     "data": {
      "text/html": [
       "<html><script type=\"math/tex; mode=display\">\\newcommand{\\Bold}[1]{\\mathbf{#1}}c_{97} = 0</script></html>"
      ],
      "text/plain": [
       "c97 == 0"
      ]
     },
     "metadata": {},
     "output_type": "display_data"
    },
    {
     "data": {
      "text/html": [
       "<html><script type=\"math/tex; mode=display\">\\newcommand{\\Bold}[1]{\\mathbf{#1}}z_{4}\\left(\\tau\\right) = -\\frac{887}{113400} \\, \\tau^{10} + \\frac{887}{11340} \\, \\tau^{9} - \\frac{61}{224} \\, \\tau^{8} + \\frac{53}{140} \\, \\tau^{7} - \\frac{1}{6} \\, \\tau^{6}</script></html>"
      ],
      "text/plain": [
       "z4(tau) == -887/113400*tau^10 + 887/11340*tau^9 - 61/224*tau^8 + 53/140*tau^7 - 1/6*tau^6"
      ]
     },
     "metadata": {},
     "output_type": "display_data"
    },
    {
     "data": {
      "text/html": [
       "<html><script type=\"math/tex; mode=display\">\\newcommand{\\Bold}[1]{\\mathbf{#1}}\\left[z_{0}\\left(\\tau\\right) = -\\frac{1}{2} \\, \\tau^{2} + \\tau, z_{1}\\left(\\tau\\right) = -\\frac{1}{12} \\, \\tau^{4} + \\frac{1}{3} \\, \\tau^{3}, z_{2}\\left(\\tau\\right) = -\\frac{11}{360} \\, \\tau^{6} + \\frac{11}{60} \\, \\tau^{5} - \\frac{1}{4} \\, \\tau^{4}, z_{3}\\left(\\tau\\right) = -\\frac{73}{5040} \\, \\tau^{8} + \\frac{73}{630} \\, \\tau^{7} - \\frac{17}{60} \\, \\tau^{6} + \\frac{1}{5} \\, \\tau^{5}, z_{4}\\left(\\tau\\right) = -\\frac{887}{113400} \\, \\tau^{10} + \\frac{887}{11340} \\, \\tau^{9} - \\frac{61}{224} \\, \\tau^{8} + \\frac{53}{140} \\, \\tau^{7} - \\frac{1}{6} \\, \\tau^{6}\\right]</script></html>"
      ],
      "text/plain": [
       "[z0(tau) == -1/2*tau^2 + tau,\n",
       " z1(tau) == -1/12*tau^4 + 1/3*tau^3,\n",
       " z2(tau) == -11/360*tau^6 + 11/60*tau^5 - 1/4*tau^4,\n",
       " z3(tau) == -73/5040*tau^8 + 73/630*tau^7 - 17/60*tau^6 + 1/5*tau^5,\n",
       " z4(tau) == -887/113400*tau^10 + 887/11340*tau^9 - 61/224*tau^8 + 53/140*tau^7 - 1/6*tau^6]"
      ]
     },
     "execution_count": 120,
     "metadata": {},
     "output_type": "execute_result"
    }
   ],
   "source": [
    "for i in range(1, 5):\n",
    "\n",
    "    eqns[i] = integrate(equations[i] == 0, t)\n",
    "    eqns[i].show()\n",
    "    for j in range(i):\n",
    "        eqns[i] = eqns[i].substitute({eqns[j].left():eqns[j].right()})\n",
    "    eqns[i].show()\n",
    "\n",
    "    subterm = (eqns[i].substitute({derivative(function(f\"z{i}\")(t), t):var(\"dzidt\")}).solve(dzidt)[0].right() == 0).substitute(t==0)\n",
    "\n",
    "    subterm.show()\n",
    "\n",
    "    subterm = subterm.solve(subterm.variables()[0])[0]\n",
    "\n",
    "    subterm.show()\n",
    "\n",
    "    eqns[i] = eqns[i].substitute(subterm)\n",
    "\n",
    "    eqns[i] = integrate(eqns[i], t)\n",
    "    eqns[i].show()\n",
    "\n",
    "    eqns[i] = solve_fn(eqns[i], function(f\"z{i}\")(t))\n",
    "    eqns[i].show()\n",
    "\n",
    "    subterm = (eqns[i].right().substitute(t==0)==0)\n",
    "    subterm = subterm.solve(subterm.variables()[0])[0]\n",
    "    subterm.show()\n",
    "\n",
    "    eqns[i] = eqns[i].substitute(subterm)\n",
    "    \n",
    "    eqns[i].show()\n",
    "\n",
    "eqns"
   ]
  },
  {
   "cell_type": "code",
   "execution_count": 121,
   "metadata": {},
   "outputs": [
    {
     "data": {
      "text/html": [
       "<html><script type=\"math/tex; mode=display\">\\newcommand{\\Bold}[1]{\\mathbf{#1}}-\\frac{1}{453600} \\, {\\left(3548 \\, \\tau^{10} - 35480 \\, \\tau^{9} + 123525 \\, \\tau^{8} - 171720 \\, \\tau^{7} + 75600 \\, \\tau^{6}\\right)} \\epsilon^{4} - \\frac{1}{5040} \\, {\\left(73 \\, \\tau^{8} - 584 \\, \\tau^{7} + 1428 \\, \\tau^{6} - 1008 \\, \\tau^{5}\\right)} \\epsilon^{3} - \\frac{1}{360} \\, {\\left(11 \\, \\tau^{6} - 66 \\, \\tau^{5} + 90 \\, \\tau^{4}\\right)} \\epsilon^{2} - \\frac{1}{12} \\, {\\left(\\tau^{4} - 4 \\, \\tau^{3}\\right)} \\epsilon - \\frac{1}{2} \\, \\tau^{2} + \\tau</script></html>"
      ],
      "text/plain": [
       "-1/453600*(3548*tau^10 - 35480*tau^9 + 123525*tau^8 - 171720*tau^7 + 75600*tau^6)*epsilon^4 - 1/5040*(73*tau^8 - 584*tau^7 + 1428*tau^6 - 1008*tau^5)*epsilon^3 - 1/360*(11*tau^6 - 66*tau^5 + 90*tau^4)*epsilon^2 - 1/12*(tau^4 - 4*tau^3)*epsilon - 1/2*tau^2 + tau"
      ]
     },
     "execution_count": 121,
     "metadata": {},
     "output_type": "execute_result"
    }
   ],
   "source": [
    "z_series = sum(eqns[i].right() * ep **i for i in range(5))\n",
    "\n",
    "z_series"
   ]
  },
  {
   "cell_type": "code",
   "execution_count": 131,
   "metadata": {},
   "outputs": [
    {
     "data": {
      "image/png": "[encoded data removed]",
      "text/plain": [
       "Graphics object consisting of 1 graphics primitive"
      ]
     },
     "execution_count": 131,
     "metadata": {},
     "output_type": "execute_result"
    }
   ],
   "source": [
    "plot(z_series.substitute(ep==.1), t, 0, 3)"
   ]
  },
  {
   "cell_type": "code",
   "execution_count": 132,
   "metadata": {},
   "outputs": [
    {
     "data": {
      "text/html": [
       "<html><script type=\"math/tex; mode=display\">\\newcommand{\\Bold}[1]{\\mathbf{#1}}-\\frac{1}{11340} \\, {\\left(887 \\, \\tau^{9} - 7983 \\, \\tau^{8} + 24705 \\, \\tau^{7} - 30051 \\, \\tau^{6} + 11340 \\, \\tau^{5}\\right)} \\epsilon^{4} - \\frac{1}{630} \\, {\\left(73 \\, \\tau^{7} - 511 \\, \\tau^{6} + 1071 \\, \\tau^{5} - 630 \\, \\tau^{4}\\right)} \\epsilon^{3} - \\frac{1}{60} \\, {\\left(11 \\, \\tau^{5} - 55 \\, \\tau^{4} + 60 \\, \\tau^{3}\\right)} \\epsilon^{2} - \\frac{1}{3} \\, {\\left(\\tau^{3} - 3 \\, \\tau^{2}\\right)} \\epsilon - \\tau + 1</script></html>"
      ],
      "text/plain": [
       "-1/11340*(887*tau^9 - 7983*tau^8 + 24705*tau^7 - 30051*tau^6 + 11340*tau^5)*epsilon^4 - 1/630*(73*tau^7 - 511*tau^6 + 1071*tau^5 - 630*tau^4)*epsilon^3 - 1/60*(11*tau^5 - 55*tau^4 + 60*tau^3)*epsilon^2 - 1/3*(tau^3 - 3*tau^2)*epsilon - tau + 1"
      ]
     },
     "execution_count": 132,
     "metadata": {},
     "output_type": "execute_result"
    }
   ],
   "source": [
    "velocity = derivative(z_series, t)\n",
    "\n",
    "velocity"
   ]
  },
  {
   "cell_type": "code",
   "execution_count": 133,
   "metadata": {},
   "outputs": [
    {
     "data": {
      "text/html": [
       "<html><script type=\"math/tex; mode=display\">\\newcommand{\\Bold}[1]{\\mathbf{#1}}-\\frac{1}{11340} \\, {\\left(887 \\, \\tau^{9} - 7983 \\, \\tau^{8} + 24705 \\, \\tau^{7} - 30051 \\, \\tau^{6} + 11340 \\, \\tau^{5}\\right)} \\epsilon^{4} - \\frac{1}{630} \\, {\\left(73 \\, \\tau^{7} - 511 \\, \\tau^{6} + 1071 \\, \\tau^{5} - 630 \\, \\tau^{4}\\right)} \\epsilon^{3} - \\frac{1}{60} \\, {\\left(11 \\, \\tau^{5} - 55 \\, \\tau^{4} + 60 \\, \\tau^{3}\\right)} \\epsilon^{2} - \\frac{1}{3} \\, {\\left(\\tau^{3} - 3 \\, \\tau^{2}\\right)} \\epsilon - \\tau + 1 = 0</script></html>"
      ],
      "text/plain": [
       "-1/11340*(887*tau^9 - 7983*tau^8 + 24705*tau^7 - 30051*tau^6 + 11340*tau^5)*epsilon^4 - 1/630*(73*tau^7 - 511*tau^6 + 1071*tau^5 - 630*tau^4)*epsilon^3 - 1/60*(11*tau^5 - 55*tau^4 + 60*tau^3)*epsilon^2 - 1/3*(tau^3 - 3*tau^2)*epsilon - tau + 1 == 0"
      ]
     },
     "execution_count": 133,
     "metadata": {},
     "output_type": "execute_result"
    }
   ],
   "source": [
    "velocity == 0"
   ]
  },
  {
   "cell_type": "code",
   "execution_count": null,
   "metadata": {},
   "outputs": [],
   "source": []
  }
 ],
 "metadata": {
  "kernelspec": {
   "display_name": "SageMath 9.1",
   "language": "sage",
   "name": "sagemath"
  },
  "language_info": {
   "codemirror_mode": {
    "name": "ipython",
    "version": 3
   },
   "file_extension": ".py",
   "mimetype": "text/x-python",
   "name": "python",
   "nbconvert_exporter": "python",
   "pygments_lexer": "ipython3",
   "version": "3.7.8"
  }
 },
 "nbformat": 4,
 "nbformat_minor": 2
}
