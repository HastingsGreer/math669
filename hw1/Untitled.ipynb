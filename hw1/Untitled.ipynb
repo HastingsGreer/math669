{
 "cells": [
  {
   "cell_type": "code",
   "execution_count": 1,
   "metadata": {},
   "outputs": [],
   "source": [
    "from sage.misc.html import latex\n",
    "%display latex"
   ]
  },
  {
   "cell_type": "code",
   "execution_count": 2,
   "metadata": {},
   "outputs": [
    {
     "data": {
      "text/html": [
       "<html>\\(\\displaystyle \\left(z, \\epsilon, \\tau\\right)\\)</html>"
      ],
      "text/latex": [
       "$\\displaystyle \\left(z, \\epsilon, \\tau\\right)$"
      ],
      "text/plain": [
       "(z, epsilon, tau)"
      ]
     },
     "execution_count": 2,
     "metadata": {},
     "output_type": "execute_result"
    }
   ],
   "source": [
    "var(\"z epsilon tau\")"
   ]
  },
  {
   "cell_type": "code",
   "execution_count": 3,
   "metadata": {},
   "outputs": [
    {
     "data": {
      "text/html": [
       "<html>\\(\\displaystyle \\epsilon\\)</html>"
      ],
      "text/latex": [
       "$\\displaystyle \\epsilon$"
      ],
      "text/plain": [
       "epsilon"
      ]
     },
     "execution_count": 3,
     "metadata": {},
     "output_type": "execute_result"
    }
   ],
   "source": [
    "ep = epsilon\n",
    "t = tau\n",
    "ep"
   ]
  },
  {
   "cell_type": "code",
   "execution_count": 4,
   "metadata": {},
   "outputs": [
    {
     "data": {
      "text/html": [
       "<html>\\(\\displaystyle -\\frac{1}{{\\left(\\epsilon z + 1\\right)}^{2}}\\)</html>"
      ],
      "text/latex": [
       "$\\displaystyle -\\frac{1}{{\\left(\\epsilon z + 1\\right)}^{2}}$"
      ],
      "text/plain": [
       "-1/(epsilon*z + 1)^2"
      ]
     },
     "execution_count": 4,
     "metadata": {},
     "output_type": "execute_result"
    }
   ],
   "source": [
    "rhs = -1/(1 + ep * z)**2\n",
    "rhs"
   ]
  },
  {
   "cell_type": "code",
   "execution_count": 5,
   "metadata": {},
   "outputs": [
    {
     "data": {
      "text/html": [
       "<html>\\(\\displaystyle -5 \\, \\epsilon^{4} z^{4} + 4 \\, \\epsilon^{3} z^{3} - 3 \\, \\epsilon^{2} z^{2} + 2 \\, \\epsilon z - 1\\)</html>"
      ],
      "text/latex": [
       "$\\displaystyle -5 \\, \\epsilon^{4} z^{4} + 4 \\, \\epsilon^{3} z^{3} - 3 \\, \\epsilon^{2} z^{2} + 2 \\, \\epsilon z - 1$"
      ],
      "text/plain": [
       "-5 \\, \\epsilon^{4} z^{4} + 4 \\, \\epsilon^{3} z^{3} - 3 \\, \\epsilon^{2} z^{2} + 2 \\, \\epsilon z - 1"
      ]
     },
     "execution_count": 5,
     "metadata": {},
     "output_type": "execute_result"
    }
   ],
   "source": [
    "rhs_taylor = rhs.taylor(ep, 0, 4)\n",
    "latex(rhs_taylor)"
   ]
  },
  {
   "cell_type": "code",
   "execution_count": 6,
   "metadata": {},
   "outputs": [
    {
     "data": {
      "text/html": [
       "<html>\\(\\displaystyle \\epsilon^{4} z_{4}\\left(\\tau\\right) + \\epsilon^{3} z_{3}\\left(\\tau\\right) + \\epsilon^{2} z_{2}\\left(\\tau\\right) + \\epsilon z_{1}\\left(\\tau\\right) + z_{0}\\left(\\tau\\right)\\)</html>"
      ],
      "text/latex": [
       "$\\displaystyle \\epsilon^{4} z_{4}\\left(\\tau\\right) + \\epsilon^{3} z_{3}\\left(\\tau\\right) + \\epsilon^{2} z_{2}\\left(\\tau\\right) + \\epsilon z_{1}\\left(\\tau\\right) + z_{0}\\left(\\tau\\right)$"
      ],
      "text/plain": [
       "epsilon^4*z4(tau) + epsilon^3*z3(tau) + epsilon^2*z2(tau) + epsilon*z1(tau) + z0(tau)"
      ]
     },
     "execution_count": 6,
     "metadata": {},
     "output_type": "execute_result"
    }
   ],
   "source": [
    "z_expanded = 0\n",
    "for i in range(5):\n",
    "    z_expanded += function(f\"z{i}\")(t) * ep**i\n",
    "z_expanded"
   ]
  },
  {
   "cell_type": "code",
   "execution_count": 7,
   "metadata": {},
   "outputs": [],
   "source": [
    "rhs_expanded = rhs_taylor.substitute(z=z_expanded).expand().collect(ep)"
   ]
  },
  {
   "cell_type": "code",
   "execution_count": 8,
   "metadata": {},
   "outputs": [
    {
     "data": {
      "text/html": [
       "<html>\\(\\displaystyle \\epsilon^{4} \\frac{\\partial^{2}}{(\\partial \\tau)^{2}}z_{4}\\left(\\tau\\right) + \\epsilon^{3} \\frac{\\partial^{2}}{(\\partial \\tau)^{2}}z_{3}\\left(\\tau\\right) + \\epsilon^{2} \\frac{\\partial^{2}}{(\\partial \\tau)^{2}}z_{2}\\left(\\tau\\right) + \\epsilon \\frac{\\partial^{2}}{(\\partial \\tau)^{2}}z_{1}\\left(\\tau\\right) + \\frac{\\partial^{2}}{(\\partial \\tau)^{2}}z_{0}\\left(\\tau\\right)\\)</html>"
      ],
      "text/latex": [
       "$\\displaystyle \\epsilon^{4} \\frac{\\partial^{2}}{(\\partial \\tau)^{2}}z_{4}\\left(\\tau\\right) + \\epsilon^{3} \\frac{\\partial^{2}}{(\\partial \\tau)^{2}}z_{3}\\left(\\tau\\right) + \\epsilon^{2} \\frac{\\partial^{2}}{(\\partial \\tau)^{2}}z_{2}\\left(\\tau\\right) + \\epsilon \\frac{\\partial^{2}}{(\\partial \\tau)^{2}}z_{1}\\left(\\tau\\right) + \\frac{\\partial^{2}}{(\\partial \\tau)^{2}}z_{0}\\left(\\tau\\right)$"
      ],
      "text/plain": [
       "epsilon^4*diff(z4(tau), tau, tau) + epsilon^3*diff(z3(tau), tau, tau) + epsilon^2*diff(z2(tau), tau, tau) + epsilon*diff(z1(tau), tau, tau) + diff(z0(tau), tau, tau)"
      ]
     },
     "execution_count": 8,
     "metadata": {},
     "output_type": "execute_result"
    }
   ],
   "source": [
    "lhs = 0\n",
    "for i in range(5):\n",
    "    lhs += derivative(function(f\"z{i}\")(t), t, 2) * ep**i\n",
    "lhs"
   ]
  },
  {
   "cell_type": "code",
   "execution_count": 9,
   "metadata": {},
   "outputs": [
    {
     "data": {
      "text/html": [
       "<html>\\(\\displaystyle \\left[-\\frac{\\partial^{2}}{(\\partial \\tau)^{2}}z_{0}\\left(\\tau\\right) - 1 = 0, 2 \\, z_{0}\\left(\\tau\\right) - \\frac{\\partial^{2}}{(\\partial \\tau)^{2}}z_{1}\\left(\\tau\\right) = 0, -3 \\, z_{0}\\left(\\tau\\right)^{2} + 2 \\, z_{1}\\left(\\tau\\right) - \\frac{\\partial^{2}}{(\\partial \\tau)^{2}}z_{2}\\left(\\tau\\right) = 0, 4 \\, z_{0}\\left(\\tau\\right)^{3} - 6 \\, z_{0}\\left(\\tau\\right) z_{1}\\left(\\tau\\right) + 2 \\, z_{2}\\left(\\tau\\right) - \\frac{\\partial^{2}}{(\\partial \\tau)^{2}}z_{3}\\left(\\tau\\right) = 0, -5 \\, z_{0}\\left(\\tau\\right)^{4} + 12 \\, z_{0}\\left(\\tau\\right)^{2} z_{1}\\left(\\tau\\right) - 3 \\, z_{1}\\left(\\tau\\right)^{2} - 6 \\, z_{0}\\left(\\tau\\right) z_{2}\\left(\\tau\\right) + 2 \\, z_{3}\\left(\\tau\\right) - \\frac{\\partial^{2}}{(\\partial \\tau)^{2}}z_{4}\\left(\\tau\\right) = 0, -20 \\, z_{0}\\left(\\tau\\right)^{3} z_{1}\\left(\\tau\\right) + 12 \\, z_{0}\\left(\\tau\\right) z_{1}\\left(\\tau\\right)^{2} + 12 \\, z_{0}\\left(\\tau\\right)^{2} z_{2}\\left(\\tau\\right) - 6 \\, z_{1}\\left(\\tau\\right) z_{2}\\left(\\tau\\right) - 6 \\, z_{0}\\left(\\tau\\right) z_{3}\\left(\\tau\\right) + 2 \\, z_{4}\\left(\\tau\\right) = 0\\right]\\)</html>"
      ],
      "text/latex": [
       "$\\displaystyle \\left[-\\frac{\\partial^{2}}{(\\partial \\tau)^{2}}z_{0}\\left(\\tau\\right) - 1 = 0, 2 \\, z_{0}\\left(\\tau\\right) - \\frac{\\partial^{2}}{(\\partial \\tau)^{2}}z_{1}\\left(\\tau\\right) = 0, -3 \\, z_{0}\\left(\\tau\\right)^{2} + 2 \\, z_{1}\\left(\\tau\\right) - \\frac{\\partial^{2}}{(\\partial \\tau)^{2}}z_{2}\\left(\\tau\\right) = 0, 4 \\, z_{0}\\left(\\tau\\right)^{3} - 6 \\, z_{0}\\left(\\tau\\right) z_{1}\\left(\\tau\\right) + 2 \\, z_{2}\\left(\\tau\\right) - \\frac{\\partial^{2}}{(\\partial \\tau)^{2}}z_{3}\\left(\\tau\\right) = 0, -5 \\, z_{0}\\left(\\tau\\right)^{4} + 12 \\, z_{0}\\left(\\tau\\right)^{2} z_{1}\\left(\\tau\\right) - 3 \\, z_{1}\\left(\\tau\\right)^{2} - 6 \\, z_{0}\\left(\\tau\\right) z_{2}\\left(\\tau\\right) + 2 \\, z_{3}\\left(\\tau\\right) - \\frac{\\partial^{2}}{(\\partial \\tau)^{2}}z_{4}\\left(\\tau\\right) = 0, -20 \\, z_{0}\\left(\\tau\\right)^{3} z_{1}\\left(\\tau\\right) + 12 \\, z_{0}\\left(\\tau\\right) z_{1}\\left(\\tau\\right)^{2} + 12 \\, z_{0}\\left(\\tau\\right)^{2} z_{2}\\left(\\tau\\right) - 6 \\, z_{1}\\left(\\tau\\right) z_{2}\\left(\\tau\\right) - 6 \\, z_{0}\\left(\\tau\\right) z_{3}\\left(\\tau\\right) + 2 \\, z_{4}\\left(\\tau\\right) = 0\\right]$"
      ],
      "text/plain": [
       "[-diff(z0(tau), tau, tau) - 1 == 0,\n",
       " 2*z0(tau) - diff(z1(tau), tau, tau) == 0,\n",
       " -3*z0(tau)^2 + 2*z1(tau) - diff(z2(tau), tau, tau) == 0,\n",
       " 4*z0(tau)^3 - 6*z0(tau)*z1(tau) + 2*z2(tau) - diff(z3(tau), tau, tau) == 0,\n",
       " -5*z0(tau)^4 + 12*z0(tau)^2*z1(tau) - 3*z1(tau)^2 - 6*z0(tau)*z2(tau) + 2*z3(tau) - diff(z4(tau), tau, tau) == 0,\n",
       " -20*z0(tau)^3*z1(tau) + 12*z0(tau)*z1(tau)^2 + 12*z0(tau)^2*z2(tau) - 6*z1(tau)*z2(tau) - 6*z0(tau)*z3(tau) + 2*z4(tau) == 0]"
      ]
     },
     "execution_count": 9,
     "metadata": {},
     "output_type": "execute_result"
    }
   ],
   "source": [
    "equations = (rhs_expanded - lhs).collect(ep).coefficients(ep, sparse=False)[:6]\n",
    "[e == 0 for e in equations]"
   ]
  },
  {
   "cell_type": "code",
   "execution_count": 10,
   "metadata": {},
   "outputs": [
    {
     "data": {
      "text/html": [
       "<html>\\(\\displaystyle \\frac{\\partial}{\\partial \\tau}z_{0}\\left(\\tau\\right) = -c_{1} - \\tau\\)</html>"
      ],
      "text/latex": [
       "$\\displaystyle \\frac{\\partial}{\\partial \\tau}z_{0}\\left(\\tau\\right) = -c_{1} - \\tau$"
      ],
      "text/plain": [
       "diff(z0(tau), tau) == -c1 - tau"
      ]
     },
     "execution_count": 10,
     "metadata": {},
     "output_type": "execute_result"
    }
   ],
   "source": [
    "i = 0\n",
    "\n",
    "eqn = integrate(equations[i] == 0, t)\n",
    "eqn = eqn - eqn.left().operands()[0]\n",
    "eqn *= -1\n",
    "eqn"
   ]
  },
  {
   "cell_type": "code",
   "execution_count": 11,
   "metadata": {},
   "outputs": [
    {
     "data": {
      "text/html": [
       "<html>\\(\\displaystyle \\left[c_{1} = \\left(-1\\right)\\right]\\)</html>"
      ],
      "text/latex": [
       "$\\displaystyle \\left[c_{1} = \\left(-1\\right)\\right]$"
      ],
      "text/plain": [
       "[c1 == -1]"
      ]
     },
     "execution_count": 11,
     "metadata": {},
     "output_type": "execute_result"
    }
   ],
   "source": [
    "term_at_t0 = eqn.right().substitute(t==0)\n",
    "constant = solve(term_at_t0 == 1, term_at_t0.variables()[0])\n",
    "constant"
   ]
  },
  {
   "cell_type": "code",
   "execution_count": 12,
   "metadata": {},
   "outputs": [],
   "source": [
    "eqn = eqn.substitute(constant)"
   ]
  },
  {
   "cell_type": "code",
   "execution_count": 13,
   "metadata": {},
   "outputs": [
    {
     "data": {
      "text/html": [
       "<html>\\(\\displaystyle z_{0}\\left(\\tau\\right) = -\\frac{1}{2} \\, \\tau^{2} + c_{2} + \\tau\\)</html>"
      ],
      "text/latex": [
       "$\\displaystyle z_{0}\\left(\\tau\\right) = -\\frac{1}{2} \\, \\tau^{2} + c_{2} + \\tau$"
      ],
      "text/plain": [
       "z0(tau) == -1/2*tau^2 + c2 + tau"
      ]
     },
     "execution_count": 13,
     "metadata": {},
     "output_type": "execute_result"
    }
   ],
   "source": [
    "eqn = integrate(eqn, t)\n",
    "eqn"
   ]
  },
  {
   "cell_type": "code",
   "execution_count": 14,
   "metadata": {},
   "outputs": [
    {
     "data": {
      "text/html": [
       "<html>\\(\\displaystyle \\left[c_{2} = 0\\right]\\)</html>"
      ],
      "text/latex": [
       "$\\displaystyle \\left[c_{2} = 0\\right]$"
      ],
      "text/plain": [
       "[c2 == 0]"
      ]
     },
     "execution_count": 14,
     "metadata": {},
     "output_type": "execute_result"
    }
   ],
   "source": [
    "term_at_t0 = eqn.right().substitute(t==0)\n",
    "constant = solve(term_at_t0 == 0, term_at_t0.variables()[0])\n",
    "constant"
   ]
  },
  {
   "cell_type": "code",
   "execution_count": 15,
   "metadata": {},
   "outputs": [
    {
     "data": {
      "text/html": [
       "<html>\\(\\displaystyle z_{0}\\left(\\tau\\right) = -\\frac{1}{2} \\, \\tau^{2} + \\tau\\)</html>"
      ],
      "text/latex": [
       "$\\displaystyle z_{0}\\left(\\tau\\right) = -\\frac{1}{2} \\, \\tau^{2} + \\tau$"
      ],
      "text/plain": [
       "z0(tau) == -1/2*tau^2 + tau"
      ]
     },
     "execution_count": 15,
     "metadata": {},
     "output_type": "execute_result"
    }
   ],
   "source": [
    "eqn = eqn.substitute(constant)\n",
    "eqn"
   ]
  },
  {
   "cell_type": "code",
   "execution_count": 16,
   "metadata": {},
   "outputs": [],
   "source": [
    "eqns = [None for _ in range(4)]\n",
    "eqns[0] = eqn"
   ]
  },
  {
   "cell_type": "code",
   "execution_count": 17,
   "metadata": {},
   "outputs": [],
   "source": [
    "def solve_fn(eqn, function):\n",
    "    eqn = eqn.substitute({function: var(\"tempy\")})\n",
    "    eqn = eqn.solve(var(\"tempy\"))[0]\n",
    "    eqn = eqn.substitute({var(\"tempy\"):function})\n",
    "    return eqn"
   ]
  },
  {
   "cell_type": "code",
   "execution_count": 24,
   "metadata": {},
   "outputs": [
    {
     "data": {
      "text/html": [
       "<html>\\(\\displaystyle \\int 2 \\, z_{0}\\left(\\tau\\right) - \\frac{\\partial^{2}}{(\\partial \\tau)^{2}}z_{1}\\left(\\tau\\right)\\,{d \\tau} = c\\)</html>"
      ],
      "text/latex": [
       "$\\displaystyle \\int 2 \\, z_{0}\\left(\\tau\\right) - \\frac{\\partial^{2}}{(\\partial \\tau)^{2}}z_{1}\\left(\\tau\\right)\\,{d \\tau} = c$"
      ],
      "text/plain": [
       "integrate(2*z0(tau) - diff(z1(tau), tau, tau), tau) == c"
      ]
     },
     "metadata": {},
     "output_type": "display_data"
    },
    {
     "data": {
      "text/html": [
       "<html>\\(\\displaystyle -\\frac{1}{3} \\, \\tau^{3} + \\tau^{2} - \\frac{\\partial}{\\partial \\tau}z_{1}\\left(\\tau\\right) = c\\)</html>"
      ],
      "text/latex": [
       "$\\displaystyle -\\frac{1}{3} \\, \\tau^{3} + \\tau^{2} - \\frac{\\partial}{\\partial \\tau}z_{1}\\left(\\tau\\right) = c$"
      ],
      "text/plain": [
       "-1/3*tau^3 + tau^2 - diff(z1(tau), tau) == c"
      ]
     },
     "metadata": {},
     "output_type": "display_data"
    },
    {
     "data": {
      "text/html": [
       "<html>\\(\\displaystyle -\\frac{1}{3} \\, \\tau^{3} + \\tau^{2} - \\frac{\\partial}{\\partial \\tau}z_{1}\\left(\\tau\\right) = c\\)</html>"
      ],
      "text/latex": [
       "$\\displaystyle -\\frac{1}{3} \\, \\tau^{3} + \\tau^{2} - \\frac{\\partial}{\\partial \\tau}z_{1}\\left(\\tau\\right) = c$"
      ],
      "text/plain": [
       "-1/3*tau^3 + tau^2 - diff(z1(tau), tau) == c"
      ]
     },
     "metadata": {},
     "output_type": "display_data"
    },
    {
     "name": "stdout",
     "output_type": "stream",
     "text": [
      "hi\n"
     ]
    },
    {
     "data": {
      "text/html": [
       "<html>\\(\\displaystyle \\mathit{dzidt} = -\\frac{1}{3} \\, \\tau^{3} + \\tau^{2} - c\\)</html>"
      ],
      "text/latex": [
       "$\\displaystyle \\mathit{dzidt} = -\\frac{1}{3} \\, \\tau^{3} + \\tau^{2} - c$"
      ],
      "text/plain": [
       "dzidt == -1/3*tau^3 + tau^2 - c"
      ]
     },
     "metadata": {},
     "output_type": "display_data"
    },
    {
     "data": {
      "text/html": [
       "<html>\\(\\displaystyle -c = 0\\)</html>"
      ],
      "text/latex": [
       "$\\displaystyle -c = 0$"
      ],
      "text/plain": [
       "-c == 0"
      ]
     },
     "metadata": {},
     "output_type": "display_data"
    },
    {
     "data": {
      "text/html": [
       "<html>\\(\\displaystyle c = 0\\)</html>"
      ],
      "text/latex": [
       "$\\displaystyle c = 0$"
      ],
      "text/plain": [
       "c == 0"
      ]
     },
     "metadata": {},
     "output_type": "display_data"
    },
    {
     "data": {
      "text/html": [
       "<html>\\(\\displaystyle -\\frac{1}{12} \\, \\tau^{4} + \\frac{1}{3} \\, \\tau^{3} - z_{1}\\left(\\tau\\right) = c_{9}\\)</html>"
      ],
      "text/latex": [
       "$\\displaystyle -\\frac{1}{12} \\, \\tau^{4} + \\frac{1}{3} \\, \\tau^{3} - z_{1}\\left(\\tau\\right) = c_{9}$"
      ],
      "text/plain": [
       "-1/12*tau^4 + 1/3*tau^3 - z1(tau) == c9"
      ]
     },
     "metadata": {},
     "output_type": "display_data"
    },
    {
     "data": {
      "text/html": [
       "<html>\\(\\displaystyle z_{1}\\left(\\tau\\right) = -\\frac{1}{12} \\, \\tau^{4} + \\frac{1}{3} \\, \\tau^{3} - c_{9}\\)</html>"
      ],
      "text/latex": [
       "$\\displaystyle z_{1}\\left(\\tau\\right) = -\\frac{1}{12} \\, \\tau^{4} + \\frac{1}{3} \\, \\tau^{3} - c_{9}$"
      ],
      "text/plain": [
       "z1(tau) == -1/12*tau^4 + 1/3*tau^3 - c9"
      ]
     },
     "metadata": {},
     "output_type": "display_data"
    },
    {
     "data": {
      "text/html": [
       "<html>\\(\\displaystyle c_{9} = 0\\)</html>"
      ],
      "text/latex": [
       "$\\displaystyle c_{9} = 0$"
      ],
      "text/plain": [
       "c9 == 0"
      ]
     },
     "metadata": {},
     "output_type": "display_data"
    },
    {
     "data": {
      "text/html": [
       "<html>\\(\\displaystyle z_{1}\\left(\\tau\\right) = -\\frac{1}{12} \\, \\tau^{4} + \\frac{1}{3} \\, \\tau^{3}\\)</html>"
      ],
      "text/latex": [
       "$\\displaystyle z_{1}\\left(\\tau\\right) = -\\frac{1}{12} \\, \\tau^{4} + \\frac{1}{3} \\, \\tau^{3}$"
      ],
      "text/plain": [
       "z1(tau) == -1/12*tau^4 + 1/3*tau^3"
      ]
     },
     "metadata": {},
     "output_type": "display_data"
    },
    {
     "data": {
      "text/html": [
       "<html>\\(\\displaystyle \\int -3 \\, z_{0}\\left(\\tau\\right)^{2} + 2 \\, z_{1}\\left(\\tau\\right) - \\frac{\\partial^{2}}{(\\partial \\tau)^{2}}z_{2}\\left(\\tau\\right)\\,{d \\tau} = c\\)</html>"
      ],
      "text/latex": [
       "$\\displaystyle \\int -3 \\, z_{0}\\left(\\tau\\right)^{2} + 2 \\, z_{1}\\left(\\tau\\right) - \\frac{\\partial^{2}}{(\\partial \\tau)^{2}}z_{2}\\left(\\tau\\right)\\,{d \\tau} = c$"
      ],
      "text/plain": [
       "integrate(-3*z0(tau)^2 + 2*z1(tau) - diff(z2(tau), tau, tau), tau) == c"
      ]
     },
     "metadata": {},
     "output_type": "display_data"
    },
    {
     "data": {
      "text/html": [
       "<html>\\(\\displaystyle -\\frac{1}{30} \\, \\tau^{5} + \\frac{1}{6} \\, \\tau^{4} - \\frac{1}{4} \\, \\int 3 \\, \\tau^{4}\\,{d \\tau} - \\frac{1}{4} \\, \\int -12 \\, \\tau^{3}\\,{d \\tau} - \\frac{1}{4} \\, \\int 12 \\, \\tau^{2}\\,{d \\tau} - \\frac{1}{4} \\, \\int 4 \\, \\frac{\\partial^{2}}{(\\partial \\tau)^{2}}z_{2}\\left(\\tau\\right)\\,{d \\tau} = c\\)</html>"
      ],
      "text/latex": [
       "$\\displaystyle -\\frac{1}{30} \\, \\tau^{5} + \\frac{1}{6} \\, \\tau^{4} - \\frac{1}{4} \\, \\int 3 \\, \\tau^{4}\\,{d \\tau} - \\frac{1}{4} \\, \\int -12 \\, \\tau^{3}\\,{d \\tau} - \\frac{1}{4} \\, \\int 12 \\, \\tau^{2}\\,{d \\tau} - \\frac{1}{4} \\, \\int 4 \\, \\frac{\\partial^{2}}{(\\partial \\tau)^{2}}z_{2}\\left(\\tau\\right)\\,{d \\tau} = c$"
      ],
      "text/plain": [
       "-1/30*tau^5 + 1/6*tau^4 - 1/4*integrate(3*tau^4, tau) - 1/4*integrate(-12*tau^3, tau) - 1/4*integrate(12*tau^2, tau) - 1/4*integrate(4*diff(z2(tau), tau, tau), tau) == c"
      ]
     },
     "metadata": {},
     "output_type": "display_data"
    },
    {
     "data": {
      "text/html": [
       "<html>\\(\\displaystyle -\\frac{11}{60} \\, \\tau^{5} + \\frac{11}{12} \\, \\tau^{4} - \\tau^{3} - \\frac{\\partial}{\\partial \\tau}z_{2}\\left(\\tau\\right) = c\\)</html>"
      ],
      "text/latex": [
       "$\\displaystyle -\\frac{11}{60} \\, \\tau^{5} + \\frac{11}{12} \\, \\tau^{4} - \\tau^{3} - \\frac{\\partial}{\\partial \\tau}z_{2}\\left(\\tau\\right) = c$"
      ],
      "text/plain": [
       "-11/60*tau^5 + 11/12*tau^4 - tau^3 - diff(z2(tau), tau) == c"
      ]
     },
     "metadata": {},
     "output_type": "display_data"
    },
    {
     "name": "stdout",
     "output_type": "stream",
     "text": [
      "hi\n"
     ]
    },
    {
     "data": {
      "text/html": [
       "<html>\\(\\displaystyle \\mathit{dzidt} = -\\frac{11}{60} \\, \\tau^{5} + \\frac{11}{12} \\, \\tau^{4} - \\tau^{3} - c\\)</html>"
      ],
      "text/latex": [
       "$\\displaystyle \\mathit{dzidt} = -\\frac{11}{60} \\, \\tau^{5} + \\frac{11}{12} \\, \\tau^{4} - \\tau^{3} - c$"
      ],
      "text/plain": [
       "dzidt == -11/60*tau^5 + 11/12*tau^4 - tau^3 - c"
      ]
     },
     "metadata": {},
     "output_type": "display_data"
    },
    {
     "data": {
      "text/html": [
       "<html>\\(\\displaystyle -c = 0\\)</html>"
      ],
      "text/latex": [
       "$\\displaystyle -c = 0$"
      ],
      "text/plain": [
       "-c == 0"
      ]
     },
     "metadata": {},
     "output_type": "display_data"
    },
    {
     "data": {
      "text/html": [
       "<html>\\(\\displaystyle c = 0\\)</html>"
      ],
      "text/latex": [
       "$\\displaystyle c = 0$"
      ],
      "text/plain": [
       "c == 0"
      ]
     },
     "metadata": {},
     "output_type": "display_data"
    },
    {
     "data": {
      "text/html": [
       "<html>\\(\\displaystyle -\\frac{11}{360} \\, \\tau^{6} + \\frac{11}{60} \\, \\tau^{5} - \\frac{1}{4} \\, \\tau^{4} - z_{2}\\left(\\tau\\right) = c_{10}\\)</html>"
      ],
      "text/latex": [
       "$\\displaystyle -\\frac{11}{360} \\, \\tau^{6} + \\frac{11}{60} \\, \\tau^{5} - \\frac{1}{4} \\, \\tau^{4} - z_{2}\\left(\\tau\\right) = c_{10}$"
      ],
      "text/plain": [
       "-11/360*tau^6 + 11/60*tau^5 - 1/4*tau^4 - z2(tau) == c10"
      ]
     },
     "metadata": {},
     "output_type": "display_data"
    },
    {
     "data": {
      "text/html": [
       "<html>\\(\\displaystyle z_{2}\\left(\\tau\\right) = -\\frac{11}{360} \\, \\tau^{6} + \\frac{11}{60} \\, \\tau^{5} - \\frac{1}{4} \\, \\tau^{4} - c_{10}\\)</html>"
      ],
      "text/latex": [
       "$\\displaystyle z_{2}\\left(\\tau\\right) = -\\frac{11}{360} \\, \\tau^{6} + \\frac{11}{60} \\, \\tau^{5} - \\frac{1}{4} \\, \\tau^{4} - c_{10}$"
      ],
      "text/plain": [
       "z2(tau) == -11/360*tau^6 + 11/60*tau^5 - 1/4*tau^4 - c10"
      ]
     },
     "metadata": {},
     "output_type": "display_data"
    },
    {
     "data": {
      "text/html": [
       "<html>\\(\\displaystyle c_{10} = 0\\)</html>"
      ],
      "text/latex": [
       "$\\displaystyle c_{10} = 0$"
      ],
      "text/plain": [
       "c10 == 0"
      ]
     },
     "metadata": {},
     "output_type": "display_data"
    },
    {
     "data": {
      "text/html": [
       "<html>\\(\\displaystyle z_{2}\\left(\\tau\\right) = -\\frac{11}{360} \\, \\tau^{6} + \\frac{11}{60} \\, \\tau^{5} - \\frac{1}{4} \\, \\tau^{4}\\)</html>"
      ],
      "text/latex": [
       "$\\displaystyle z_{2}\\left(\\tau\\right) = -\\frac{11}{360} \\, \\tau^{6} + \\frac{11}{60} \\, \\tau^{5} - \\frac{1}{4} \\, \\tau^{4}$"
      ],
      "text/plain": [
       "z2(tau) == -11/360*tau^6 + 11/60*tau^5 - 1/4*tau^4"
      ]
     },
     "metadata": {},
     "output_type": "display_data"
    },
    {
     "data": {
      "text/html": [
       "<html>\\(\\displaystyle \\int 4 \\, z_{0}\\left(\\tau\\right)^{3} - 6 \\, z_{0}\\left(\\tau\\right) z_{1}\\left(\\tau\\right) + 2 \\, z_{2}\\left(\\tau\\right) - \\frac{\\partial^{2}}{(\\partial \\tau)^{2}}z_{3}\\left(\\tau\\right)\\,{d \\tau} = c\\)</html>"
      ],
      "text/latex": [
       "$\\displaystyle \\int 4 \\, z_{0}\\left(\\tau\\right)^{3} - 6 \\, z_{0}\\left(\\tau\\right) z_{1}\\left(\\tau\\right) + 2 \\, z_{2}\\left(\\tau\\right) - \\frac{\\partial^{2}}{(\\partial \\tau)^{2}}z_{3}\\left(\\tau\\right)\\,{d \\tau} = c$"
      ],
      "text/plain": [
       "integrate(4*z0(tau)^3 - 6*z0(tau)*z1(tau) + 2*z2(tau) - diff(z3(tau), tau, tau), tau) == c"
      ]
     },
     "metadata": {},
     "output_type": "display_data"
    },
    {
     "data": {
      "text/html": [
       "<html>\\(\\displaystyle -\\frac{2}{45} \\, \\tau^{7} + \\frac{14}{45} \\, \\tau^{6} - \\frac{1}{2} \\, \\tau^{5} - \\frac{1}{2} \\, \\int \\tau^{6}\\,{d \\tau} - \\frac{1}{2} \\, \\int -6 \\, \\tau^{5}\\,{d \\tau} - \\frac{1}{2} \\, \\int 12 \\, \\tau^{4}\\,{d \\tau} - \\frac{1}{2} \\, \\int -8 \\, \\tau^{3}\\,{d \\tau} - \\frac{1}{2} \\, \\int 2 \\, \\frac{\\partial^{2}}{(\\partial \\tau)^{2}}z_{3}\\left(\\tau\\right)\\,{d \\tau} = c\\)</html>"
      ],
      "text/latex": [
       "$\\displaystyle -\\frac{2}{45} \\, \\tau^{7} + \\frac{14}{45} \\, \\tau^{6} - \\frac{1}{2} \\, \\tau^{5} - \\frac{1}{2} \\, \\int \\tau^{6}\\,{d \\tau} - \\frac{1}{2} \\, \\int -6 \\, \\tau^{5}\\,{d \\tau} - \\frac{1}{2} \\, \\int 12 \\, \\tau^{4}\\,{d \\tau} - \\frac{1}{2} \\, \\int -8 \\, \\tau^{3}\\,{d \\tau} - \\frac{1}{2} \\, \\int 2 \\, \\frac{\\partial^{2}}{(\\partial \\tau)^{2}}z_{3}\\left(\\tau\\right)\\,{d \\tau} = c$"
      ],
      "text/plain": [
       "-2/45*tau^7 + 14/45*tau^6 - 1/2*tau^5 - 1/2*integrate(tau^6, tau) - 1/2*integrate(-6*tau^5, tau) - 1/2*integrate(12*tau^4, tau) - 1/2*integrate(-8*tau^3, tau) - 1/2*integrate(2*diff(z3(tau), tau, tau), tau) == c"
      ]
     },
     "metadata": {},
     "output_type": "display_data"
    },
    {
     "data": {
      "text/html": [
       "<html>\\(\\displaystyle -\\frac{73}{630} \\, \\tau^{7} + \\frac{73}{90} \\, \\tau^{6} - \\frac{17}{10} \\, \\tau^{5} + \\tau^{4} - \\frac{\\partial}{\\partial \\tau}z_{3}\\left(\\tau\\right) = c\\)</html>"
      ],
      "text/latex": [
       "$\\displaystyle -\\frac{73}{630} \\, \\tau^{7} + \\frac{73}{90} \\, \\tau^{6} - \\frac{17}{10} \\, \\tau^{5} + \\tau^{4} - \\frac{\\partial}{\\partial \\tau}z_{3}\\left(\\tau\\right) = c$"
      ],
      "text/plain": [
       "-73/630*tau^7 + 73/90*tau^6 - 17/10*tau^5 + tau^4 - diff(z3(tau), tau) == c"
      ]
     },
     "metadata": {},
     "output_type": "display_data"
    },
    {
     "name": "stdout",
     "output_type": "stream",
     "text": [
      "hi\n"
     ]
    },
    {
     "data": {
      "text/html": [
       "<html>\\(\\displaystyle \\mathit{dzidt} = -\\frac{73}{630} \\, \\tau^{7} + \\frac{73}{90} \\, \\tau^{6} - \\frac{17}{10} \\, \\tau^{5} + \\tau^{4} - c\\)</html>"
      ],
      "text/latex": [
       "$\\displaystyle \\mathit{dzidt} = -\\frac{73}{630} \\, \\tau^{7} + \\frac{73}{90} \\, \\tau^{6} - \\frac{17}{10} \\, \\tau^{5} + \\tau^{4} - c$"
      ],
      "text/plain": [
       "dzidt == -73/630*tau^7 + 73/90*tau^6 - 17/10*tau^5 + tau^4 - c"
      ]
     },
     "metadata": {},
     "output_type": "display_data"
    },
    {
     "data": {
      "text/html": [
       "<html>\\(\\displaystyle -c = 0\\)</html>"
      ],
      "text/latex": [
       "$\\displaystyle -c = 0$"
      ],
      "text/plain": [
       "-c == 0"
      ]
     },
     "metadata": {},
     "output_type": "display_data"
    },
    {
     "data": {
      "text/html": [
       "<html>\\(\\displaystyle c = 0\\)</html>"
      ],
      "text/latex": [
       "$\\displaystyle c = 0$"
      ],
      "text/plain": [
       "c == 0"
      ]
     },
     "metadata": {},
     "output_type": "display_data"
    },
    {
     "data": {
      "text/html": [
       "<html>\\(\\displaystyle -\\frac{73}{5040} \\, \\tau^{8} + \\frac{73}{630} \\, \\tau^{7} - \\frac{17}{60} \\, \\tau^{6} + \\frac{1}{5} \\, \\tau^{5} - z_{3}\\left(\\tau\\right) = c_{11}\\)</html>"
      ],
      "text/latex": [
       "$\\displaystyle -\\frac{73}{5040} \\, \\tau^{8} + \\frac{73}{630} \\, \\tau^{7} - \\frac{17}{60} \\, \\tau^{6} + \\frac{1}{5} \\, \\tau^{5} - z_{3}\\left(\\tau\\right) = c_{11}$"
      ],
      "text/plain": [
       "-73/5040*tau^8 + 73/630*tau^7 - 17/60*tau^6 + 1/5*tau^5 - z3(tau) == c11"
      ]
     },
     "metadata": {},
     "output_type": "display_data"
    },
    {
     "data": {
      "text/html": [
       "<html>\\(\\displaystyle z_{3}\\left(\\tau\\right) = -\\frac{73}{5040} \\, \\tau^{8} + \\frac{73}{630} \\, \\tau^{7} - \\frac{17}{60} \\, \\tau^{6} + \\frac{1}{5} \\, \\tau^{5} - c_{11}\\)</html>"
      ],
      "text/latex": [
       "$\\displaystyle z_{3}\\left(\\tau\\right) = -\\frac{73}{5040} \\, \\tau^{8} + \\frac{73}{630} \\, \\tau^{7} - \\frac{17}{60} \\, \\tau^{6} + \\frac{1}{5} \\, \\tau^{5} - c_{11}$"
      ],
      "text/plain": [
       "z3(tau) == -73/5040*tau^8 + 73/630*tau^7 - 17/60*tau^6 + 1/5*tau^5 - c11"
      ]
     },
     "metadata": {},
     "output_type": "display_data"
    },
    {
     "data": {
      "text/html": [
       "<html>\\(\\displaystyle c_{11} = 0\\)</html>"
      ],
      "text/latex": [
       "$\\displaystyle c_{11} = 0$"
      ],
      "text/plain": [
       "c11 == 0"
      ]
     },
     "metadata": {},
     "output_type": "display_data"
    },
    {
     "data": {
      "text/html": [
       "<html>\\(\\displaystyle z_{3}\\left(\\tau\\right) = -\\frac{73}{5040} \\, \\tau^{8} + \\frac{73}{630} \\, \\tau^{7} - \\frac{17}{60} \\, \\tau^{6} + \\frac{1}{5} \\, \\tau^{5}\\)</html>"
      ],
      "text/latex": [
       "$\\displaystyle z_{3}\\left(\\tau\\right) = -\\frac{73}{5040} \\, \\tau^{8} + \\frac{73}{630} \\, \\tau^{7} - \\frac{17}{60} \\, \\tau^{6} + \\frac{1}{5} \\, \\tau^{5}$"
      ],
      "text/plain": [
       "z3(tau) == -73/5040*tau^8 + 73/630*tau^7 - 17/60*tau^6 + 1/5*tau^5"
      ]
     },
     "metadata": {},
     "output_type": "display_data"
    },
    {
     "data": {
      "text/html": [
       "<html>\\(\\displaystyle \\left[z_{0}\\left(\\tau\\right) = -\\frac{1}{2} \\, \\tau^{2} + \\tau, z_{1}\\left(\\tau\\right) = -\\frac{1}{12} \\, \\tau^{4} + \\frac{1}{3} \\, \\tau^{3}, z_{2}\\left(\\tau\\right) = -\\frac{11}{360} \\, \\tau^{6} + \\frac{11}{60} \\, \\tau^{5} - \\frac{1}{4} \\, \\tau^{4}, z_{3}\\left(\\tau\\right) = -\\frac{73}{5040} \\, \\tau^{8} + \\frac{73}{630} \\, \\tau^{7} - \\frac{17}{60} \\, \\tau^{6} + \\frac{1}{5} \\, \\tau^{5}\\right]\\)</html>"
      ],
      "text/latex": [
       "$\\displaystyle \\left[z_{0}\\left(\\tau\\right) = -\\frac{1}{2} \\, \\tau^{2} + \\tau, z_{1}\\left(\\tau\\right) = -\\frac{1}{12} \\, \\tau^{4} + \\frac{1}{3} \\, \\tau^{3}, z_{2}\\left(\\tau\\right) = -\\frac{11}{360} \\, \\tau^{6} + \\frac{11}{60} \\, \\tau^{5} - \\frac{1}{4} \\, \\tau^{4}, z_{3}\\left(\\tau\\right) = -\\frac{73}{5040} \\, \\tau^{8} + \\frac{73}{630} \\, \\tau^{7} - \\frac{17}{60} \\, \\tau^{6} + \\frac{1}{5} \\, \\tau^{5}\\right]$"
      ],
      "text/plain": [
       "[z0(tau) == -1/2*tau^2 + tau,\n",
       " z1(tau) == -1/12*tau^4 + 1/3*tau^3,\n",
       " z2(tau) == -11/360*tau^6 + 11/60*tau^5 - 1/4*tau^4,\n",
       " z3(tau) == -73/5040*tau^8 + 73/630*tau^7 - 17/60*tau^6 + 1/5*tau^5]"
      ]
     },
     "execution_count": 24,
     "metadata": {},
     "output_type": "execute_result"
    }
   ],
   "source": [
    "for i in range(1, 4):\n",
    "\n",
    "    eqns[i] = integrate(equations[i], t) == var(\"c\")\n",
    "    eqns[i].show()\n",
    "    for j in range(i):\n",
    "        eqns[i] = eqns[i].substitute({eqns[j].left():eqns[j].right()})\n",
    "    eqns[i].show()\n",
    "    eqns[i] = eqns[i].simplify_full()\n",
    "    eqns[i].show()\n",
    "    print(\"hi\")\n",
    "    subterm = eqns[i].substitute({derivative(function(f\"z{i}\")(t), t):var(\"dzidt\")}).solve(dzidt)\n",
    "    subterm[0].show()\n",
    "    subterm = (subterm[0].right() == 0).substitute(t==0)\n",
    "\n",
    "    subterm.show()\n",
    "\n",
    "    subterm = subterm.solve(subterm.variables()[0])[0]\n",
    "\n",
    "    subterm.show()\n",
    "\n",
    "    eqns[i] = eqns[i].substitute(subterm)\n",
    "\n",
    "    eqns[i] = integrate(eqns[i], t)\n",
    "    eqns[i].show()\n",
    "\n",
    "    eqns[i] = solve_fn(eqns[i], function(f\"z{i}\")(t))\n",
    "    eqns[i].show()\n",
    "\n",
    "    subterm = (eqns[i].right().substitute(t==0)==0)\n",
    "    subterm = subterm.solve(subterm.variables()[0])[0]\n",
    "    subterm.show()\n",
    "\n",
    "    eqns[i] = eqns[i].substitute(subterm)\n",
    "    \n",
    "    eqns[i].show()\n",
    "\n",
    "eqns"
   ]
  },
  {
   "cell_type": "code",
   "execution_count": 25,
   "metadata": {},
   "outputs": [
    {
     "data": {
      "text/html": [
       "<html>\\(\\displaystyle -\\frac{1}{5040} \\, {\\left(73 \\, \\tau^{8} - 584 \\, \\tau^{7} + 1428 \\, \\tau^{6} - 1008 \\, \\tau^{5}\\right)} \\epsilon^{3} - \\frac{1}{360} \\, {\\left(11 \\, \\tau^{6} - 66 \\, \\tau^{5} + 90 \\, \\tau^{4}\\right)} \\epsilon^{2} - \\frac{1}{12} \\, {\\left(\\tau^{4} - 4 \\, \\tau^{3}\\right)} \\epsilon - \\frac{1}{2} \\, \\tau^{2} + \\tau\\)</html>"
      ],
      "text/latex": [
       "$\\displaystyle -\\frac{1}{5040} \\, {\\left(73 \\, \\tau^{8} - 584 \\, \\tau^{7} + 1428 \\, \\tau^{6} - 1008 \\, \\tau^{5}\\right)} \\epsilon^{3} - \\frac{1}{360} \\, {\\left(11 \\, \\tau^{6} - 66 \\, \\tau^{5} + 90 \\, \\tau^{4}\\right)} \\epsilon^{2} - \\frac{1}{12} \\, {\\left(\\tau^{4} - 4 \\, \\tau^{3}\\right)} \\epsilon - \\frac{1}{2} \\, \\tau^{2} + \\tau$"
      ],
      "text/plain": [
       "-1/5040*(73*tau^8 - 584*tau^7 + 1428*tau^6 - 1008*tau^5)*epsilon^3 - 1/360*(11*tau^6 - 66*tau^5 + 90*tau^4)*epsilon^2 - 1/12*(tau^4 - 4*tau^3)*epsilon - 1/2*tau^2 + tau"
      ]
     },
     "execution_count": 25,
     "metadata": {},
     "output_type": "execute_result"
    }
   ],
   "source": [
    "z_series = sum(eqns[i].right() * ep **i for i in range(4))\n",
    "\n",
    "z_series"
   ]
  },
  {
   "cell_type": "code",
   "execution_count": 26,
   "metadata": {},
   "outputs": [
    {
     "data": {
      "image/png": "[encoded data removed]",
      "text/plain": [
       "Graphics object consisting of 1 graphics primitive"
      ]
     },
     "execution_count": 26,
     "metadata": {},
     "output_type": "execute_result"
    }
   ],
   "source": [
    "plot(z_series.substitute(ep==.1), t, 0, 3)"
   ]
  },
  {
   "cell_type": "code",
   "execution_count": 27,
   "metadata": {},
   "outputs": [
    {
     "data": {
      "text/html": [
       "<html>\\(\\displaystyle -\\frac{1}{630} \\, {\\left(73 \\, \\tau^{7} - 511 \\, \\tau^{6} + 1071 \\, \\tau^{5} - 630 \\, \\tau^{4}\\right)} \\epsilon^{3} - \\frac{1}{60} \\, {\\left(11 \\, \\tau^{5} - 55 \\, \\tau^{4} + 60 \\, \\tau^{3}\\right)} \\epsilon^{2} - \\frac{1}{3} \\, {\\left(\\tau^{3} - 3 \\, \\tau^{2}\\right)} \\epsilon - \\tau + 1\\)</html>"
      ],
      "text/latex": [
       "$\\displaystyle -\\frac{1}{630} \\, {\\left(73 \\, \\tau^{7} - 511 \\, \\tau^{6} + 1071 \\, \\tau^{5} - 630 \\, \\tau^{4}\\right)} \\epsilon^{3} - \\frac{1}{60} \\, {\\left(11 \\, \\tau^{5} - 55 \\, \\tau^{4} + 60 \\, \\tau^{3}\\right)} \\epsilon^{2} - \\frac{1}{3} \\, {\\left(\\tau^{3} - 3 \\, \\tau^{2}\\right)} \\epsilon - \\tau + 1$"
      ],
      "text/plain": [
       "-1/630*(73*tau^7 - 511*tau^6 + 1071*tau^5 - 630*tau^4)*epsilon^3 - 1/60*(11*tau^5 - 55*tau^4 + 60*tau^3)*epsilon^2 - 1/3*(tau^3 - 3*tau^2)*epsilon - tau + 1"
      ]
     },
     "execution_count": 27,
     "metadata": {},
     "output_type": "execute_result"
    }
   ],
   "source": [
    "velocity = derivative(z_series, t)\n",
    "\n",
    "velocity"
   ]
  },
  {
   "cell_type": "code",
   "execution_count": 28,
   "metadata": {},
   "outputs": [
    {
     "data": {
      "text/html": [
       "<html>\\(\\displaystyle -\\frac{1}{630} \\, {\\left(73 \\, \\tau^{7} - 511 \\, \\tau^{6} + 1071 \\, \\tau^{5} - 630 \\, \\tau^{4}\\right)} \\epsilon^{3} - \\frac{1}{60} \\, {\\left(11 \\, \\tau^{5} - 55 \\, \\tau^{4} + 60 \\, \\tau^{3}\\right)} \\epsilon^{2} - \\frac{1}{3} \\, {\\left(\\tau^{3} - 3 \\, \\tau^{2}\\right)} \\epsilon - \\tau + 1 = 0\\)</html>"
      ],
      "text/latex": [
       "$\\displaystyle -\\frac{1}{630} \\, {\\left(73 \\, \\tau^{7} - 511 \\, \\tau^{6} + 1071 \\, \\tau^{5} - 630 \\, \\tau^{4}\\right)} \\epsilon^{3} - \\frac{1}{60} \\, {\\left(11 \\, \\tau^{5} - 55 \\, \\tau^{4} + 60 \\, \\tau^{3}\\right)} \\epsilon^{2} - \\frac{1}{3} \\, {\\left(\\tau^{3} - 3 \\, \\tau^{2}\\right)} \\epsilon - \\tau + 1 = 0$"
      ],
      "text/plain": [
       "-1/630*(73*tau^7 - 511*tau^6 + 1071*tau^5 - 630*tau^4)*epsilon^3 - 1/60*(11*tau^5 - 55*tau^4 + 60*tau^3)*epsilon^2 - 1/3*(tau^3 - 3*tau^2)*epsilon - tau + 1 == 0"
      ]
     },
     "execution_count": 28,
     "metadata": {},
     "output_type": "execute_result"
    }
   ],
   "source": [
    "velocity == 0"
   ]
  },
  {
   "cell_type": "code",
   "execution_count": 29,
   "metadata": {},
   "outputs": [
    {
     "data": {
      "text/html": [
       "<html>\\(\\displaystyle {\\tau_{apex}} = a_{4} \\epsilon^{4} + a_{3} \\epsilon^{3} + a_{2} \\epsilon^{2} + a_{1} \\epsilon + a_{0}\\)</html>"
      ],
      "text/latex": [
       "$\\displaystyle {\\tau_{apex}} = a_{4} \\epsilon^{4} + a_{3} \\epsilon^{3} + a_{2} \\epsilon^{2} + a_{1} \\epsilon + a_{0}$"
      ],
      "text/plain": [
       "apex_time == a4*epsilon^4 + a3*epsilon^3 + a2*epsilon^2 + a1*epsilon + a0"
      ]
     },
     "metadata": {},
     "output_type": "display_data"
    }
   ],
   "source": [
    "apex_time = var(\"apex_time\", latex_name=\"\\\\tau_{apex}\")\n",
    "series_apex = apex_time == sum(var(f\"a{i}\")*ep^i for i in range(5))\n",
    "series_apex.show()"
   ]
  },
  {
   "cell_type": "code",
   "execution_count": 30,
   "metadata": {},
   "outputs": [
    {
     "data": {
      "text/html": [
       "<html>\\(\\displaystyle \\left[-a_{0} + 1, -\\frac{1}{3} \\, a_{0}^{3} + a_{0}^{2} - a_{1}, -\\frac{11}{60} \\, a_{0}^{5} + \\frac{11}{12} \\, a_{0}^{4} - a_{0}^{3} - a_{0}^{2} a_{1} + 2 \\, a_{0} a_{1} - a_{2}, -\\frac{73}{630} \\, a_{0}^{7} + \\frac{73}{90} \\, a_{0}^{6} - \\frac{17}{10} \\, a_{0}^{5} - \\frac{11}{12} \\, a_{0}^{4} a_{1} + a_{0}^{4} + \\frac{11}{3} \\, a_{0}^{3} a_{1} - 3 \\, a_{0}^{2} a_{1} - a_{0} a_{1}^{2} - a_{0}^{2} a_{2} + a_{1}^{2} + 2 \\, a_{0} a_{2} - a_{3}, -\\frac{73}{90} \\, a_{0}^{6} a_{1} + \\frac{73}{15} \\, a_{0}^{5} a_{1} - \\frac{17}{2} \\, a_{0}^{4} a_{1} - \\frac{11}{6} \\, a_{0}^{3} a_{1}^{2} - \\frac{11}{12} \\, a_{0}^{4} a_{2} + 4 \\, a_{0}^{3} a_{1} + \\frac{11}{2} \\, a_{0}^{2} a_{1}^{2} + \\frac{11}{3} \\, a_{0}^{3} a_{2} - 3 \\, a_{0} a_{1}^{2} - \\frac{1}{3} \\, a_{1}^{3} - 3 \\, a_{0}^{2} a_{2} - 2 \\, a_{0} a_{1} a_{2} - a_{0}^{2} a_{3} + 2 \\, a_{1} a_{2} + 2 \\, a_{0} a_{3} - a_{4}\\right]\\)</html>"
      ],
      "text/latex": [
       "$\\displaystyle \\left[-a_{0} + 1, -\\frac{1}{3} \\, a_{0}^{3} + a_{0}^{2} - a_{1}, -\\frac{11}{60} \\, a_{0}^{5} + \\frac{11}{12} \\, a_{0}^{4} - a_{0}^{3} - a_{0}^{2} a_{1} + 2 \\, a_{0} a_{1} - a_{2}, -\\frac{73}{630} \\, a_{0}^{7} + \\frac{73}{90} \\, a_{0}^{6} - \\frac{17}{10} \\, a_{0}^{5} - \\frac{11}{12} \\, a_{0}^{4} a_{1} + a_{0}^{4} + \\frac{11}{3} \\, a_{0}^{3} a_{1} - 3 \\, a_{0}^{2} a_{1} - a_{0} a_{1}^{2} - a_{0}^{2} a_{2} + a_{1}^{2} + 2 \\, a_{0} a_{2} - a_{3}, -\\frac{73}{90} \\, a_{0}^{6} a_{1} + \\frac{73}{15} \\, a_{0}^{5} a_{1} - \\frac{17}{2} \\, a_{0}^{4} a_{1} - \\frac{11}{6} \\, a_{0}^{3} a_{1}^{2} - \\frac{11}{12} \\, a_{0}^{4} a_{2} + 4 \\, a_{0}^{3} a_{1} + \\frac{11}{2} \\, a_{0}^{2} a_{1}^{2} + \\frac{11}{3} \\, a_{0}^{3} a_{2} - 3 \\, a_{0} a_{1}^{2} - \\frac{1}{3} \\, a_{1}^{3} - 3 \\, a_{0}^{2} a_{2} - 2 \\, a_{0} a_{1} a_{2} - a_{0}^{2} a_{3} + 2 \\, a_{1} a_{2} + 2 \\, a_{0} a_{3} - a_{4}\\right]$"
      ],
      "text/plain": [
       "[-a0 + 1,\n",
       " -1/3*a0^3 + a0^2 - a1,\n",
       " -11/60*a0^5 + 11/12*a0^4 - a0^3 - a0^2*a1 + 2*a0*a1 - a2,\n",
       " -73/630*a0^7 + 73/90*a0^6 - 17/10*a0^5 - 11/12*a0^4*a1 + a0^4 + 11/3*a0^3*a1 - 3*a0^2*a1 - a0*a1^2 - a0^2*a2 + a1^2 + 2*a0*a2 - a3,\n",
       " -73/90*a0^6*a1 + 73/15*a0^5*a1 - 17/2*a0^4*a1 - 11/6*a0^3*a1^2 - 11/12*a0^4*a2 + 4*a0^3*a1 + 11/2*a0^2*a1^2 + 11/3*a0^3*a2 - 3*a0*a1^2 - 1/3*a1^3 - 3*a0^2*a2 - 2*a0*a1*a2 - a0^2*a3 + 2*a1*a2 + 2*a0*a3 - a4]"
      ]
     },
     "execution_count": 30,
     "metadata": {},
     "output_type": "execute_result"
    }
   ],
   "source": [
    "expanded_apex_time = (velocity).substitute(t==apex_time).substitute(series_apex).expand().collect(ep).coefficients(ep, sparse=False)\n",
    "expanded_apex_time[:5]"
   ]
  },
  {
   "cell_type": "code",
   "execution_count": 31,
   "metadata": {},
   "outputs": [
    {
     "data": {
      "text/html": [
       "<html>\\(\\displaystyle a_{0} = 1\\)</html>"
      ],
      "text/latex": [
       "$\\displaystyle a_{0} = 1$"
      ],
      "text/plain": [
       "a0 == 1"
      ]
     },
     "metadata": {},
     "output_type": "display_data"
    },
    {
     "data": {
      "text/html": [
       "<html>\\(\\displaystyle a_{0} = 1\\)</html>"
      ],
      "text/latex": [
       "$\\displaystyle a_{0} = 1$"
      ],
      "text/plain": [
       "a0 == 1"
      ]
     },
     "metadata": {},
     "output_type": "display_data"
    },
    {
     "data": {
      "text/html": [
       "<html>\\(\\displaystyle a_{1} = -\\frac{1}{3} \\, a_{0}^{3} + a_{0}^{2}\\)</html>"
      ],
      "text/latex": [
       "$\\displaystyle a_{1} = -\\frac{1}{3} \\, a_{0}^{3} + a_{0}^{2}$"
      ],
      "text/plain": [
       "a1 == -1/3*a0^3 + a0^2"
      ]
     },
     "metadata": {},
     "output_type": "display_data"
    },
    {
     "data": {
      "text/html": [
       "<html>\\(\\displaystyle a_{1} = \\left(\\frac{2}{3}\\right)\\)</html>"
      ],
      "text/latex": [
       "$\\displaystyle a_{1} = \\left(\\frac{2}{3}\\right)$"
      ],
      "text/plain": [
       "a1 == (2/3)"
      ]
     },
     "metadata": {},
     "output_type": "display_data"
    },
    {
     "data": {
      "text/html": [
       "<html>\\(\\displaystyle a_{2} = -\\frac{11}{60} \\, a_{0}^{5} + \\frac{11}{12} \\, a_{0}^{4} - a_{0}^{3} - {\\left(a_{0}^{2} - 2 \\, a_{0}\\right)} a_{1}\\)</html>"
      ],
      "text/latex": [
       "$\\displaystyle a_{2} = -\\frac{11}{60} \\, a_{0}^{5} + \\frac{11}{12} \\, a_{0}^{4} - a_{0}^{3} - {\\left(a_{0}^{2} - 2 \\, a_{0}\\right)} a_{1}$"
      ],
      "text/plain": [
       "a2 == -11/60*a0^5 + 11/12*a0^4 - a0^3 - (a0^2 - 2*a0)*a1"
      ]
     },
     "metadata": {},
     "output_type": "display_data"
    },
    {
     "data": {
      "text/html": [
       "<html>\\(\\displaystyle a_{2} = \\left(\\frac{2}{5}\\right)\\)</html>"
      ],
      "text/latex": [
       "$\\displaystyle a_{2} = \\left(\\frac{2}{5}\\right)$"
      ],
      "text/plain": [
       "a2 == (2/5)"
      ]
     },
     "metadata": {},
     "output_type": "display_data"
    },
    {
     "data": {
      "text/html": [
       "<html>\\(\\displaystyle a_{3} = -\\frac{73}{630} \\, a_{0}^{7} + \\frac{73}{90} \\, a_{0}^{6} - \\frac{17}{10} \\, a_{0}^{5} + a_{0}^{4} - {\\left(a_{0} - 1\\right)} a_{1}^{2} - \\frac{1}{12} \\, {\\left(11 \\, a_{0}^{4} - 44 \\, a_{0}^{3} + 36 \\, a_{0}^{2}\\right)} a_{1} - {\\left(a_{0}^{2} - 2 \\, a_{0}\\right)} a_{2}\\)</html>"
      ],
      "text/latex": [
       "$\\displaystyle a_{3} = -\\frac{73}{630} \\, a_{0}^{7} + \\frac{73}{90} \\, a_{0}^{6} - \\frac{17}{10} \\, a_{0}^{5} + a_{0}^{4} - {\\left(a_{0} - 1\\right)} a_{1}^{2} - \\frac{1}{12} \\, {\\left(11 \\, a_{0}^{4} - 44 \\, a_{0}^{3} + 36 \\, a_{0}^{2}\\right)} a_{1} - {\\left(a_{0}^{2} - 2 \\, a_{0}\\right)} a_{2}$"
      ],
      "text/plain": [
       "a3 == -73/630*a0^7 + 73/90*a0^6 - 17/10*a0^5 + a0^4 - (a0 - 1)*a1^2 - 1/12*(11*a0^4 - 44*a0^3 + 36*a0^2)*a1 - (a0^2 - 2*a0)*a2"
      ]
     },
     "metadata": {},
     "output_type": "display_data"
    },
    {
     "data": {
      "text/html": [
       "<html>\\(\\displaystyle a_{3} = \\left(\\frac{8}{35}\\right)\\)</html>"
      ],
      "text/latex": [
       "$\\displaystyle a_{3} = \\left(\\frac{8}{35}\\right)$"
      ],
      "text/plain": [
       "a3 == (8/35)"
      ]
     },
     "metadata": {},
     "output_type": "display_data"
    }
   ],
   "source": [
    "apex_eqns = [None for _ in range(4)]\n",
    "\n",
    "for i in range(4):\n",
    "    apex_eqns[i] = expanded_apex_time[i] == 0\n",
    "    apex_eqns[i] = apex_eqns[i].solve(var(f\"a{i}\"))[0]\n",
    "    apex_eqns[i].show()\n",
    "    for j in range(i):\n",
    "        apex_eqns[i] = apex_eqns[i].substitute(apex_eqns[j])\n",
    "    apex_eqns[i].show()\n",
    "    "
   ]
  },
  {
   "cell_type": "code",
   "execution_count": 32,
   "metadata": {},
   "outputs": [
    {
     "data": {
      "text/html": [
       "<html>\\(\\displaystyle {\\tau_{apex}} = a_{4} \\epsilon^{4} + \\frac{8}{35} \\, \\epsilon^{3} + \\frac{2}{5} \\, \\epsilon^{2} + \\frac{2}{3} \\, \\epsilon + 1\\)</html>"
      ],
      "text/latex": [
       "$\\displaystyle {\\tau_{apex}} = a_{4} \\epsilon^{4} + \\frac{8}{35} \\, \\epsilon^{3} + \\frac{2}{5} \\, \\epsilon^{2} + \\frac{2}{3} \\, \\epsilon + 1$"
      ],
      "text/plain": [
       "apex_time == a4*epsilon^4 + 8/35*epsilon^3 + 2/5*epsilon^2 + 2/3*epsilon + 1"
      ]
     },
     "metadata": {},
     "output_type": "display_data"
    }
   ],
   "source": [
    "show(series_apex.substitute(apex_eqns))"
   ]
  },
  {
   "cell_type": "code",
   "execution_count": 33,
   "metadata": {},
   "outputs": [
    {
     "name": "stdout",
     "output_type": "stream",
     "text": [
      "epsilon\n"
     ]
    }
   ],
   "source": [
    "print(ep)"
   ]
  },
  {
   "cell_type": "markdown",
   "metadata": {},
   "source": [
    "# Problem 2"
   ]
  },
  {
   "cell_type": "code",
   "execution_count": 34,
   "metadata": {},
   "outputs": [
    {
     "data": {
      "text/html": [
       "<html>\\(\\displaystyle \\frac{\\partial^{2}}{(\\partial \\tau)^{2}}z\\left(\\tau\\right) = -\\frac{1}{{\\left(\\epsilon z\\left(\\tau\\right) + 1\\right)}^{2}}\\)</html>"
      ],
      "text/latex": [
       "$\\displaystyle \\frac{\\partial^{2}}{(\\partial \\tau)^{2}}z\\left(\\tau\\right) = -\\frac{1}{{\\left(\\epsilon z\\left(\\tau\\right) + 1\\right)}^{2}}$"
      ],
      "text/plain": [
       "diff(z(tau), tau, tau) == -1/(epsilon*z(tau) + 1)^2"
      ]
     },
     "metadata": {},
     "output_type": "display_data"
    },
    {
     "data": {
      "text/html": [
       "<html>\\(\\displaystyle \\frac{\\partial}{\\partial \\tau}z\\left(\\tau\\right) \\frac{\\partial^{2}}{(\\partial \\tau)^{2}}z\\left(\\tau\\right) = -\\frac{\\frac{\\partial}{\\partial \\tau}z\\left(\\tau\\right)}{{\\left(\\epsilon z\\left(\\tau\\right) + 1\\right)}^{2}}\\)</html>"
      ],
      "text/latex": [
       "$\\displaystyle \\frac{\\partial}{\\partial \\tau}z\\left(\\tau\\right) \\frac{\\partial^{2}}{(\\partial \\tau)^{2}}z\\left(\\tau\\right) = -\\frac{\\frac{\\partial}{\\partial \\tau}z\\left(\\tau\\right)}{{\\left(\\epsilon z\\left(\\tau\\right) + 1\\right)}^{2}}$"
      ],
      "text/plain": [
       "diff(z(tau), tau)*diff(z(tau), tau, tau) == -diff(z(tau), tau)/(epsilon*z(tau) + 1)^2"
      ]
     },
     "metadata": {},
     "output_type": "display_data"
    },
    {
     "data": {
      "text/html": [
       "<html>\\(\\displaystyle \\frac{\\partial}{\\partial \\tau}z\\left(\\tau\\right)^{2} = 2 \\, c_{12} + \\frac{2}{{\\left(\\epsilon z\\left(\\tau\\right) + 1\\right)} \\epsilon}\\)</html>"
      ],
      "text/latex": [
       "$\\displaystyle \\frac{\\partial}{\\partial \\tau}z\\left(\\tau\\right)^{2} = 2 \\, c_{12} + \\frac{2}{{\\left(\\epsilon z\\left(\\tau\\right) + 1\\right)} \\epsilon}$"
      ],
      "text/plain": [
       "diff(z(tau), tau)^2 == 2*c12 + 2/((epsilon*z(tau) + 1)*epsilon)"
      ]
     },
     "metadata": {},
     "output_type": "display_data"
    },
    {
     "data": {
      "text/html": [
       "<html>\\(\\displaystyle c_{12} = \\frac{\\epsilon - 2}{2 \\, \\epsilon}\\)</html>"
      ],
      "text/latex": [
       "$\\displaystyle c_{12} = \\frac{\\epsilon - 2}{2 \\, \\epsilon}$"
      ],
      "text/plain": [
       "c12 == 1/2*(epsilon - 2)/epsilon"
      ]
     },
     "metadata": {},
     "output_type": "display_data"
    },
    {
     "data": {
      "text/html": [
       "<html>\\(\\displaystyle \\frac{\\partial}{\\partial \\tau}z\\left(\\tau\\right)^{2} = \\frac{\\epsilon - 2}{\\epsilon} + \\frac{2}{{\\left(\\epsilon z\\left(\\tau\\right) + 1\\right)} \\epsilon}\\)</html>"
      ],
      "text/latex": [
       "$\\displaystyle \\frac{\\partial}{\\partial \\tau}z\\left(\\tau\\right)^{2} = \\frac{\\epsilon - 2}{\\epsilon} + \\frac{2}{{\\left(\\epsilon z\\left(\\tau\\right) + 1\\right)} \\epsilon}$"
      ],
      "text/plain": [
       "diff(z(tau), tau)^2 == (epsilon - 2)/epsilon + 2/((epsilon*z(tau) + 1)*epsilon)"
      ]
     },
     "metadata": {},
     "output_type": "display_data"
    },
    {
     "data": {
      "text/html": [
       "<html>\\(\\displaystyle \\sqrt{\\frac{\\epsilon - 2}{\\epsilon} + \\frac{2}{{\\left(\\epsilon z + 1\\right)} \\epsilon}}\\)</html>"
      ],
      "text/latex": [
       "$\\displaystyle \\sqrt{\\frac{\\epsilon - 2}{\\epsilon} + \\frac{2}{{\\left(\\epsilon z + 1\\right)} \\epsilon}}$"
      ],
      "text/plain": [
       "sqrt((epsilon - 2)/epsilon + 2/((epsilon*z + 1)*epsilon))"
      ]
     },
     "execution_count": 34,
     "metadata": {},
     "output_type": "execute_result"
    }
   ],
   "source": [
    "eqn = derivative(function(\"z\")(t), t, 2) == rhs.substitute({var(\"z\"):function(\"z\")(t)})\n",
    "eqn.show()\n",
    "\n",
    "eqn = eqn * derivative(z(t), t)\n",
    "eqn.show()\n",
    "\n",
    "eqn = integrate(eqn, t)\n",
    "eqn *= 2\n",
    "eqn.show()\n",
    "\n",
    "\n",
    "\n",
    "integration_constant = (eqn.right().substitute({z(t):0}) == 1).solve(eqn.right().variables()[0])\n",
    "\n",
    "integration_constant[0].show()\n",
    "\n",
    "eqn = eqn.substitute(integration_constant)\n",
    "\n",
    "eqn.show()\n",
    "\n",
    "zprime = sqrt(eqn.right().substitute({function(\"z\")(t):var(\"z\")}))\n",
    "\n",
    "zprime"
   ]
  },
  {
   "cell_type": "code",
   "execution_count": 35,
   "metadata": {},
   "outputs": [
    {
     "name": "stdout",
     "output_type": "stream",
     "text": [
      "verbose 0 (3885: plot.py, generate_plot_points) WARNING: When plotting, failed to evaluate function at 179 points.\n",
      "verbose 0 (3885: plot.py, generate_plot_points) Last error message: 'Unable to compute f(5.0)'\n",
      "verbose 0 (3885: plot.py, generate_plot_points) WARNING: When plotting, failed to evaluate function at 179 points.\n",
      "verbose 0 (3885: plot.py, generate_plot_points) Last error message: 'Unable to compute f(5.0)'\n",
      "verbose 0 (3885: plot.py, generate_plot_points) WARNING: When plotting, failed to evaluate function at 178 points.\n",
      "verbose 0 (3885: plot.py, generate_plot_points) Last error message: 'Unable to compute f(5.0)'\n",
      "verbose 0 (3885: plot.py, generate_plot_points) WARNING: When plotting, failed to evaluate function at 174 points.\n",
      "verbose 0 (3885: plot.py, generate_plot_points) Last error message: 'Unable to compute f(5.0)'\n",
      "verbose 0 (3885: plot.py, generate_plot_points) WARNING: When plotting, failed to evaluate function at 171 points.\n",
      "verbose 0 (3885: plot.py, generate_plot_points) Last error message: 'Unable to compute f(5.0)'\n",
      "verbose 0 (3885: plot.py, generate_plot_points) WARNING: When plotting, failed to evaluate function at 166 points.\n",
      "verbose 0 (3885: plot.py, generate_plot_points) Last error message: 'Unable to compute f(5.0)'\n",
      "verbose 0 (3885: plot.py, generate_plot_points) WARNING: When plotting, failed to evaluate function at 160 points.\n",
      "verbose 0 (3885: plot.py, generate_plot_points) Last error message: 'Unable to compute f(5.0)'\n",
      "verbose 0 (3885: plot.py, generate_plot_points) WARNING: When plotting, failed to evaluate function at 150 points.\n",
      "verbose 0 (3885: plot.py, generate_plot_points) Last error message: 'Unable to compute f(5.0)'\n",
      "verbose 0 (3885: plot.py, generate_plot_points) WARNING: When plotting, failed to evaluate function at 133 points.\n",
      "verbose 0 (3885: plot.py, generate_plot_points) Last error message: 'Unable to compute f(5.0)'\n",
      "verbose 0 (3885: plot.py, generate_plot_points) WARNING: When plotting, failed to evaluate function at 100 points.\n",
      "verbose 0 (3885: plot.py, generate_plot_points) Last error message: 'Unable to compute f(5.0)'\n"
     ]
    },
    {
     "data": {
      "image/png": "[encoded data removed]",
      "text/plain": [
       "Graphics object consisting of 12 graphics primitives"
      ]
     },
     "execution_count": 35,
     "metadata": {},
     "output_type": "execute_result"
    }
   ],
   "source": [
    "plot(zprime.substitute(ep==0.01), z0, 0, 5)\n",
    "plot([zprime.substitute(ep==epp) for epp in [.01, .2, .4, .6, .8, 1, 1.2, 1.4, 1.6, 1.8, 2, 2.2]], z, 0, 5)"
   ]
  },
  {
   "cell_type": "markdown",
   "metadata": {},
   "source": [
    "# Problem 3"
   ]
  },
  {
   "cell_type": "code",
   "execution_count": 36,
   "metadata": {},
   "outputs": [],
   "source": [
    "zprime = zprime.simplify_full()"
   ]
  },
  {
   "cell_type": "code",
   "execution_count": 49,
   "metadata": {},
   "outputs": [
    {
     "data": {
      "text/html": [
       "<html>\\(\\displaystyle \\int_{0}^{-\\frac{1}{\\epsilon - 2}} \\frac{1}{\\sqrt{\\frac{{\\left(\\epsilon - 2\\right)} z + 1}{\\epsilon z + 1}}}\\,{d z}\\)</html>"
      ],
      "text/latex": [
       "$\\displaystyle \\int_{0}^{-\\frac{1}{\\epsilon - 2}} \\frac{1}{\\sqrt{\\frac{{\\left(\\epsilon - 2\\right)} z + 1}{\\epsilon z + 1}}}\\,{d z}$"
      ],
      "text/plain": [
       "integrate(1/sqrt(((epsilon - 2)*z + 1)/(epsilon*z + 1)), z, 0, -1/(epsilon - 2))"
      ]
     },
     "metadata": {},
     "output_type": "display_data"
    }
   ],
   "source": [
    "assume(ep < 2)\n",
    "assume(ep > 0)\n",
    "t_apex = integral(1 / zprime, z, 0, 1/(2 - ep), algorithm='sympy')\n",
    "t_apex.show()"
   ]
  },
  {
   "cell_type": "code",
   "execution_count": 42,
   "metadata": {},
   "outputs": [
    {
     "data": {
      "text/html": [
       "<html>\\(\\displaystyle \\frac{8}{63} \\, \\epsilon^{4} + \\frac{8}{35} \\, \\epsilon^{3} + \\frac{2}{5} \\, \\epsilon^{2} + \\frac{2}{3} \\, \\epsilon + 1\\)</html>"
      ],
      "text/latex": [
       "$\\displaystyle \\frac{8}{63} \\, \\epsilon^{4} + \\frac{8}{35} \\, \\epsilon^{3} + \\frac{2}{5} \\, \\epsilon^{2} + \\frac{2}{3} \\, \\epsilon + 1$"
      ],
      "text/plain": [
       "8/63*epsilon^4 + 8/35*epsilon^3 + 2/5*epsilon^2 + 2/3*epsilon + 1"
      ]
     },
     "execution_count": 42,
     "metadata": {},
     "output_type": "execute_result"
    }
   ],
   "source": [
    "t_apex.taylor(ep, 0, 4)"
   ]
  },
  {
   "cell_type": "code",
   "execution_count": 50,
   "metadata": {},
   "outputs": [
    {
     "data": {
      "text/html": [
       "<html>\\(\\displaystyle 1\\)</html>"
      ],
      "text/latex": [
       "$\\displaystyle 1$"
      ],
      "text/plain": [
       "1"
      ]
     },
     "execution_count": 50,
     "metadata": {},
     "output_type": "execute_result"
    }
   ],
   "source": [
    "t_apex.substitute(epsilon==0, )"
   ]
  },
  {
   "cell_type": "code",
   "execution_count": 51,
   "metadata": {},
   "outputs": [],
   "source": [
    "t_apex.substitute?"
   ]
  },
  {
   "cell_type": "markdown",
   "metadata": {},
   "source": [
    "# Problem 4"
   ]
  },
  {
   "cell_type": "markdown",
   "metadata": {},
   "source": [
    "Solving forward in time from the apex"
   ]
  },
  {
   "cell_type": "code",
   "execution_count": null,
   "metadata": {},
   "outputs": [],
   "source": [
    "function(\"v\")(t) == -zprime"
   ]
  },
  {
   "cell_type": "markdown",
   "metadata": {},
   "source": [
    "solving backwards in time from the apex, "
   ]
  },
  {
   "cell_type": "code",
   "execution_count": null,
   "metadata": {},
   "outputs": [],
   "source": [
    "function(\"v\")(t) == zprime"
   ]
  },
  {
   "cell_type": "markdown",
   "metadata": {},
   "source": [
    "By the existence and uniqeness theorem, these solutions will have the same initial conditions and so be the same, just mirrored."
   ]
  },
  {
   "cell_type": "markdown",
   "metadata": {},
   "source": [
    "# Problem 5"
   ]
  },
  {
   "cell_type": "code",
   "execution_count": null,
   "metadata": {},
   "outputs": [],
   "source": [
    "z"
   ]
  },
  {
   "cell_type": "code",
   "execution_count": null,
   "metadata": {},
   "outputs": [],
   "source": []
  }
 ],
 "metadata": {
  "kernelspec": {
   "display_name": "SageMath 9.6",
   "language": "sage",
   "name": "sagemath"
  },
  "language_info": {
   "codemirror_mode": {
    "name": "ipython",
    "version": 3
   },
   "file_extension": ".py",
   "mimetype": "text/x-python",
   "name": "python",
   "nbconvert_exporter": "python",
   "pygments_lexer": "ipython3",
   "version": "3.9.13"
  }
 },
 "nbformat": 4,
 "nbformat_minor": 2
}
